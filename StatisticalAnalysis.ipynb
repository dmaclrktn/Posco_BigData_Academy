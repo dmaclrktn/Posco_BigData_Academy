{
  "nbformat": 4,
  "nbformat_minor": 0,
  "metadata": {
    "colab": {
      "provenance": []
    },
    "kernelspec": {
      "name": "python3",
      "display_name": "Python 3"
    },
    "language_info": {
      "name": "python"
    }
  },
  "cells": [
    {
      "cell_type": "code",
      "source": [
        "# 패키지 불러오기\n",
        "import pandas as pd\n",
        "import numpy as np\n",
        "import matplotlib\n",
        "import matplotlib.pyplot as plt\n",
        "import seaborn as sns\n",
        "from scipy import stats\n",
        "import scipy.stats\n",
        "import warnings\n",
        "warnings.filterwarnings('ignore')\n",
        "matplotlib.rc(\"axes\", unicode_minus = False)"
      ],
      "metadata": {
        "id": "TK3OnK1_q4-s"
      },
      "execution_count": 1,
      "outputs": []
    },
    {
      "cell_type": "markdown",
      "source": [
        "# 실습1\n",
        "자동차 연비 Data Set에서 기술통계치 구하기"
      ],
      "metadata": {
        "id": "TGW9tc95qjtq"
      }
    },
    {
      "cell_type": "code",
      "execution_count": 2,
      "metadata": {
        "colab": {
          "base_uri": "https://localhost:8080/",
          "height": 206
        },
        "id": "tZ6ycBWMqDwX",
        "outputId": "aab69895-d050-42bd-8a7e-a21ce9eba687"
      },
      "outputs": [
        {
          "output_type": "execute_result",
          "data": {
            "text/plain": [
              "           mpg                                                   \n",
              "         count       mean       std   min   25%   50%   75%   max\n",
              "driving                                                          \n",
              "4        103.0  14.330097  2.874459   9.0  13.0  14.0  16.0  21.0\n",
              "f        106.0  19.971698  3.626510  11.0  18.0  19.0  21.0  35.0\n",
              "r         25.0  14.080000  2.215852  11.0  12.0  15.0  15.0  18.0"
            ],
            "text/html": [
              "\n",
              "  <div id=\"df-5e831901-666a-4f53-a43d-442da7608fb1\" class=\"colab-df-container\">\n",
              "    <div>\n",
              "<style scoped>\n",
              "    .dataframe tbody tr th:only-of-type {\n",
              "        vertical-align: middle;\n",
              "    }\n",
              "\n",
              "    .dataframe tbody tr th {\n",
              "        vertical-align: top;\n",
              "    }\n",
              "\n",
              "    .dataframe thead tr th {\n",
              "        text-align: left;\n",
              "    }\n",
              "\n",
              "    .dataframe thead tr:last-of-type th {\n",
              "        text-align: right;\n",
              "    }\n",
              "</style>\n",
              "<table border=\"1\" class=\"dataframe\">\n",
              "  <thead>\n",
              "    <tr>\n",
              "      <th></th>\n",
              "      <th colspan=\"8\" halign=\"left\">mpg</th>\n",
              "    </tr>\n",
              "    <tr>\n",
              "      <th></th>\n",
              "      <th>count</th>\n",
              "      <th>mean</th>\n",
              "      <th>std</th>\n",
              "      <th>min</th>\n",
              "      <th>25%</th>\n",
              "      <th>50%</th>\n",
              "      <th>75%</th>\n",
              "      <th>max</th>\n",
              "    </tr>\n",
              "    <tr>\n",
              "      <th>driving</th>\n",
              "      <th></th>\n",
              "      <th></th>\n",
              "      <th></th>\n",
              "      <th></th>\n",
              "      <th></th>\n",
              "      <th></th>\n",
              "      <th></th>\n",
              "      <th></th>\n",
              "    </tr>\n",
              "  </thead>\n",
              "  <tbody>\n",
              "    <tr>\n",
              "      <th>4</th>\n",
              "      <td>103.0</td>\n",
              "      <td>14.330097</td>\n",
              "      <td>2.874459</td>\n",
              "      <td>9.0</td>\n",
              "      <td>13.0</td>\n",
              "      <td>14.0</td>\n",
              "      <td>16.0</td>\n",
              "      <td>21.0</td>\n",
              "    </tr>\n",
              "    <tr>\n",
              "      <th>f</th>\n",
              "      <td>106.0</td>\n",
              "      <td>19.971698</td>\n",
              "      <td>3.626510</td>\n",
              "      <td>11.0</td>\n",
              "      <td>18.0</td>\n",
              "      <td>19.0</td>\n",
              "      <td>21.0</td>\n",
              "      <td>35.0</td>\n",
              "    </tr>\n",
              "    <tr>\n",
              "      <th>r</th>\n",
              "      <td>25.0</td>\n",
              "      <td>14.080000</td>\n",
              "      <td>2.215852</td>\n",
              "      <td>11.0</td>\n",
              "      <td>12.0</td>\n",
              "      <td>15.0</td>\n",
              "      <td>15.0</td>\n",
              "      <td>18.0</td>\n",
              "    </tr>\n",
              "  </tbody>\n",
              "</table>\n",
              "</div>\n",
              "    <div class=\"colab-df-buttons\">\n",
              "\n",
              "  <div class=\"colab-df-container\">\n",
              "    <button class=\"colab-df-convert\" onclick=\"convertToInteractive('df-5e831901-666a-4f53-a43d-442da7608fb1')\"\n",
              "            title=\"Convert this dataframe to an interactive table.\"\n",
              "            style=\"display:none;\">\n",
              "\n",
              "  <svg xmlns=\"http://www.w3.org/2000/svg\" height=\"24px\" viewBox=\"0 -960 960 960\">\n",
              "    <path d=\"M120-120v-720h720v720H120Zm60-500h600v-160H180v160Zm220 220h160v-160H400v160Zm0 220h160v-160H400v160ZM180-400h160v-160H180v160Zm440 0h160v-160H620v160ZM180-180h160v-160H180v160Zm440 0h160v-160H620v160Z\"/>\n",
              "  </svg>\n",
              "    </button>\n",
              "\n",
              "  <style>\n",
              "    .colab-df-container {\n",
              "      display:flex;\n",
              "      gap: 12px;\n",
              "    }\n",
              "\n",
              "    .colab-df-convert {\n",
              "      background-color: #E8F0FE;\n",
              "      border: none;\n",
              "      border-radius: 50%;\n",
              "      cursor: pointer;\n",
              "      display: none;\n",
              "      fill: #1967D2;\n",
              "      height: 32px;\n",
              "      padding: 0 0 0 0;\n",
              "      width: 32px;\n",
              "    }\n",
              "\n",
              "    .colab-df-convert:hover {\n",
              "      background-color: #E2EBFA;\n",
              "      box-shadow: 0px 1px 2px rgba(60, 64, 67, 0.3), 0px 1px 3px 1px rgba(60, 64, 67, 0.15);\n",
              "      fill: #174EA6;\n",
              "    }\n",
              "\n",
              "    .colab-df-buttons div {\n",
              "      margin-bottom: 4px;\n",
              "    }\n",
              "\n",
              "    [theme=dark] .colab-df-convert {\n",
              "      background-color: #3B4455;\n",
              "      fill: #D2E3FC;\n",
              "    }\n",
              "\n",
              "    [theme=dark] .colab-df-convert:hover {\n",
              "      background-color: #434B5C;\n",
              "      box-shadow: 0px 1px 3px 1px rgba(0, 0, 0, 0.15);\n",
              "      filter: drop-shadow(0px 1px 2px rgba(0, 0, 0, 0.3));\n",
              "      fill: #FFFFFF;\n",
              "    }\n",
              "  </style>\n",
              "\n",
              "    <script>\n",
              "      const buttonEl =\n",
              "        document.querySelector('#df-5e831901-666a-4f53-a43d-442da7608fb1 button.colab-df-convert');\n",
              "      buttonEl.style.display =\n",
              "        google.colab.kernel.accessAllowed ? 'block' : 'none';\n",
              "\n",
              "      async function convertToInteractive(key) {\n",
              "        const element = document.querySelector('#df-5e831901-666a-4f53-a43d-442da7608fb1');\n",
              "        const dataTable =\n",
              "          await google.colab.kernel.invokeFunction('convertToInteractive',\n",
              "                                                    [key], {});\n",
              "        if (!dataTable) return;\n",
              "\n",
              "        const docLinkHtml = 'Like what you see? Visit the ' +\n",
              "          '<a target=\"_blank\" href=https://colab.research.google.com/notebooks/data_table.ipynb>data table notebook</a>'\n",
              "          + ' to learn more about interactive tables.';\n",
              "        element.innerHTML = '';\n",
              "        dataTable['output_type'] = 'display_data';\n",
              "        await google.colab.output.renderOutput(dataTable, element);\n",
              "        const docLink = document.createElement('div');\n",
              "        docLink.innerHTML = docLinkHtml;\n",
              "        element.appendChild(docLink);\n",
              "      }\n",
              "    </script>\n",
              "  </div>\n",
              "\n",
              "\n",
              "<div id=\"df-a7c6f302-5275-4a38-8bdf-9f8287d025b8\">\n",
              "  <button class=\"colab-df-quickchart\" onclick=\"quickchart('df-a7c6f302-5275-4a38-8bdf-9f8287d025b8')\"\n",
              "            title=\"Suggest charts\"\n",
              "            style=\"display:none;\">\n",
              "\n",
              "<svg xmlns=\"http://www.w3.org/2000/svg\" height=\"24px\"viewBox=\"0 0 24 24\"\n",
              "     width=\"24px\">\n",
              "    <g>\n",
              "        <path d=\"M19 3H5c-1.1 0-2 .9-2 2v14c0 1.1.9 2 2 2h14c1.1 0 2-.9 2-2V5c0-1.1-.9-2-2-2zM9 17H7v-7h2v7zm4 0h-2V7h2v10zm4 0h-2v-4h2v4z\"/>\n",
              "    </g>\n",
              "</svg>\n",
              "  </button>\n",
              "\n",
              "<style>\n",
              "  .colab-df-quickchart {\n",
              "      --bg-color: #E8F0FE;\n",
              "      --fill-color: #1967D2;\n",
              "      --hover-bg-color: #E2EBFA;\n",
              "      --hover-fill-color: #174EA6;\n",
              "      --disabled-fill-color: #AAA;\n",
              "      --disabled-bg-color: #DDD;\n",
              "  }\n",
              "\n",
              "  [theme=dark] .colab-df-quickchart {\n",
              "      --bg-color: #3B4455;\n",
              "      --fill-color: #D2E3FC;\n",
              "      --hover-bg-color: #434B5C;\n",
              "      --hover-fill-color: #FFFFFF;\n",
              "      --disabled-bg-color: #3B4455;\n",
              "      --disabled-fill-color: #666;\n",
              "  }\n",
              "\n",
              "  .colab-df-quickchart {\n",
              "    background-color: var(--bg-color);\n",
              "    border: none;\n",
              "    border-radius: 50%;\n",
              "    cursor: pointer;\n",
              "    display: none;\n",
              "    fill: var(--fill-color);\n",
              "    height: 32px;\n",
              "    padding: 0;\n",
              "    width: 32px;\n",
              "  }\n",
              "\n",
              "  .colab-df-quickchart:hover {\n",
              "    background-color: var(--hover-bg-color);\n",
              "    box-shadow: 0 1px 2px rgba(60, 64, 67, 0.3), 0 1px 3px 1px rgba(60, 64, 67, 0.15);\n",
              "    fill: var(--button-hover-fill-color);\n",
              "  }\n",
              "\n",
              "  .colab-df-quickchart-complete:disabled,\n",
              "  .colab-df-quickchart-complete:disabled:hover {\n",
              "    background-color: var(--disabled-bg-color);\n",
              "    fill: var(--disabled-fill-color);\n",
              "    box-shadow: none;\n",
              "  }\n",
              "\n",
              "  .colab-df-spinner {\n",
              "    border: 2px solid var(--fill-color);\n",
              "    border-color: transparent;\n",
              "    border-bottom-color: var(--fill-color);\n",
              "    animation:\n",
              "      spin 1s steps(1) infinite;\n",
              "  }\n",
              "\n",
              "  @keyframes spin {\n",
              "    0% {\n",
              "      border-color: transparent;\n",
              "      border-bottom-color: var(--fill-color);\n",
              "      border-left-color: var(--fill-color);\n",
              "    }\n",
              "    20% {\n",
              "      border-color: transparent;\n",
              "      border-left-color: var(--fill-color);\n",
              "      border-top-color: var(--fill-color);\n",
              "    }\n",
              "    30% {\n",
              "      border-color: transparent;\n",
              "      border-left-color: var(--fill-color);\n",
              "      border-top-color: var(--fill-color);\n",
              "      border-right-color: var(--fill-color);\n",
              "    }\n",
              "    40% {\n",
              "      border-color: transparent;\n",
              "      border-right-color: var(--fill-color);\n",
              "      border-top-color: var(--fill-color);\n",
              "    }\n",
              "    60% {\n",
              "      border-color: transparent;\n",
              "      border-right-color: var(--fill-color);\n",
              "    }\n",
              "    80% {\n",
              "      border-color: transparent;\n",
              "      border-right-color: var(--fill-color);\n",
              "      border-bottom-color: var(--fill-color);\n",
              "    }\n",
              "    90% {\n",
              "      border-color: transparent;\n",
              "      border-bottom-color: var(--fill-color);\n",
              "    }\n",
              "  }\n",
              "</style>\n",
              "\n",
              "  <script>\n",
              "    async function quickchart(key) {\n",
              "      const quickchartButtonEl =\n",
              "        document.querySelector('#' + key + ' button');\n",
              "      quickchartButtonEl.disabled = true;  // To prevent multiple clicks.\n",
              "      quickchartButtonEl.classList.add('colab-df-spinner');\n",
              "      try {\n",
              "        const charts = await google.colab.kernel.invokeFunction(\n",
              "            'suggestCharts', [key], {});\n",
              "      } catch (error) {\n",
              "        console.error('Error during call to suggestCharts:', error);\n",
              "      }\n",
              "      quickchartButtonEl.classList.remove('colab-df-spinner');\n",
              "      quickchartButtonEl.classList.add('colab-df-quickchart-complete');\n",
              "    }\n",
              "    (() => {\n",
              "      let quickchartButtonEl =\n",
              "        document.querySelector('#df-a7c6f302-5275-4a38-8bdf-9f8287d025b8 button');\n",
              "      quickchartButtonEl.style.display =\n",
              "        google.colab.kernel.accessAllowed ? 'block' : 'none';\n",
              "    })();\n",
              "  </script>\n",
              "</div>\n",
              "    </div>\n",
              "  </div>\n"
            ],
            "application/vnd.google.colaboratory.intrinsic+json": {
              "type": "dataframe",
              "summary": "{\n  \"name\": \"df_city\",\n  \"rows\": 3,\n  \"fields\": [\n    {\n      \"column\": [\n        \"mpg\",\n        \"count\"\n      ],\n      \"properties\": {\n        \"dtype\": \"number\",\n        \"std\": 45.92385001282014,\n        \"min\": 25.0,\n        \"max\": 106.0,\n        \"num_unique_values\": 3,\n        \"samples\": [\n          103.0,\n          106.0,\n          25.0\n        ],\n        \"semantic_type\": \"\",\n        \"description\": \"\"\n      }\n    },\n    {\n      \"column\": [\n        \"mpg\",\n        \"mean\"\n      ],\n      \"properties\": {\n        \"dtype\": \"number\",\n        \"std\": 3.3317242118989587,\n        \"min\": 14.08,\n        \"max\": 19.971698113207548,\n        \"num_unique_values\": 3,\n        \"samples\": [\n          14.330097087378642,\n          19.971698113207548,\n          14.08\n        ],\n        \"semantic_type\": \"\",\n        \"description\": \"\"\n      }\n    },\n    {\n      \"column\": [\n        \"mpg\",\n        \"std\"\n      ],\n      \"properties\": {\n        \"dtype\": \"number\",\n        \"std\": 0.7058444621622958,\n        \"min\": 2.2158519806160335,\n        \"max\": 3.6265096617883184,\n        \"num_unique_values\": 3,\n        \"samples\": [\n          2.87445936780263,\n          3.6265096617883184,\n          2.2158519806160335\n        ],\n        \"semantic_type\": \"\",\n        \"description\": \"\"\n      }\n    },\n    {\n      \"column\": [\n        \"mpg\",\n        \"min\"\n      ],\n      \"properties\": {\n        \"dtype\": \"number\",\n        \"std\": 1.1547005383792517,\n        \"min\": 9.0,\n        \"max\": 11.0,\n        \"num_unique_values\": 2,\n        \"samples\": [\n          11.0,\n          9.0\n        ],\n        \"semantic_type\": \"\",\n        \"description\": \"\"\n      }\n    },\n    {\n      \"column\": [\n        \"mpg\",\n        \"25%\"\n      ],\n      \"properties\": {\n        \"dtype\": \"number\",\n        \"std\": 3.214550253664318,\n        \"min\": 12.0,\n        \"max\": 18.0,\n        \"num_unique_values\": 3,\n        \"samples\": [\n          13.0,\n          18.0\n        ],\n        \"semantic_type\": \"\",\n        \"description\": \"\"\n      }\n    },\n    {\n      \"column\": [\n        \"mpg\",\n        \"50%\"\n      ],\n      \"properties\": {\n        \"dtype\": \"number\",\n        \"std\": 2.6457513110645907,\n        \"min\": 14.0,\n        \"max\": 19.0,\n        \"num_unique_values\": 3,\n        \"samples\": [\n          14.0,\n          19.0\n        ],\n        \"semantic_type\": \"\",\n        \"description\": \"\"\n      }\n    },\n    {\n      \"column\": [\n        \"mpg\",\n        \"75%\"\n      ],\n      \"properties\": {\n        \"dtype\": \"number\",\n        \"std\": 3.2145502536643185,\n        \"min\": 15.0,\n        \"max\": 21.0,\n        \"num_unique_values\": 3,\n        \"samples\": [\n          16.0,\n          21.0\n        ],\n        \"semantic_type\": \"\",\n        \"description\": \"\"\n      }\n    },\n    {\n      \"column\": [\n        \"mpg\",\n        \"max\"\n      ],\n      \"properties\": {\n        \"dtype\": \"number\",\n        \"std\": 9.073771725877467,\n        \"min\": 18.0,\n        \"max\": 35.0,\n        \"num_unique_values\": 3,\n        \"samples\": [\n          21.0,\n          35.0\n        ],\n        \"semantic_type\": \"\",\n        \"description\": \"\"\n      }\n    }\n  ]\n}"
            }
          },
          "metadata": {},
          "execution_count": 2
        }
      ],
      "source": [
        "# 시내에서 연비 통계치\n",
        "\n",
        "df = pd.read_csv(\"mycars.csv\")\n",
        "df_city = df[[\"driving\",\"mpg\"]]\n",
        "df_city.groupby('driving').describe()\n"
      ]
    },
    {
      "cell_type": "markdown",
      "source": [
        "4륜구동 : 평균 : 14.33 , 표준편차 2.87 , 최소값 : 9 , Q1 : 13, Q2 : 14 , Q3 : 16 , 최대값 : 21 <br>\n",
        "전륜구동 : 평균 : 19.97 , 표준편차 3.63 , 최소값 : 11 , Q1 : 18, Q2 : 19 , Q3 : 21 , 최대값 : 35 <br>\n",
        "후륜구동 : 평균 : 14.08 , 표준편차 2.22 , 최소값 : 11 , Q1 : 12, Q2 : 15 , Q3 : 15 , 최대값 : 18"
      ],
      "metadata": {
        "id": "dJD8ldyxsbT0"
      }
    },
    {
      "cell_type": "code",
      "source": [
        "# 고속도로에서 연비 통계치\n",
        "\n",
        "df = pd.read_csv(\"mycars.csv\")\n",
        "df_highway= df[[\"driving\",\"highway_mileage\"]]\n",
        "df_highway.groupby('driving').describe()\n"
      ],
      "metadata": {
        "colab": {
          "base_uri": "https://localhost:8080/",
          "height": 206
        },
        "id": "WKmkvXo7rTby",
        "outputId": "bfe27319-2472-4859-c822-1db78ace785d"
      },
      "execution_count": 3,
      "outputs": [
        {
          "output_type": "execute_result",
          "data": {
            "text/plain": [
              "        highway_mileage                                                   \n",
              "                  count       mean       std   min   25%   50%   75%   max\n",
              "driving                                                                   \n",
              "4                 103.0  19.174757  4.078704  12.0  17.0  18.0  22.0  28.0\n",
              "f                 106.0  28.160377  4.206881  17.0  26.0  28.0  29.0  44.0\n",
              "r                  25.0  21.000000  3.662877  15.0  17.0  21.0  24.0  26.0"
            ],
            "text/html": [
              "\n",
              "  <div id=\"df-6b102874-1c7d-4d71-bd95-4f6f57c53058\" class=\"colab-df-container\">\n",
              "    <div>\n",
              "<style scoped>\n",
              "    .dataframe tbody tr th:only-of-type {\n",
              "        vertical-align: middle;\n",
              "    }\n",
              "\n",
              "    .dataframe tbody tr th {\n",
              "        vertical-align: top;\n",
              "    }\n",
              "\n",
              "    .dataframe thead tr th {\n",
              "        text-align: left;\n",
              "    }\n",
              "\n",
              "    .dataframe thead tr:last-of-type th {\n",
              "        text-align: right;\n",
              "    }\n",
              "</style>\n",
              "<table border=\"1\" class=\"dataframe\">\n",
              "  <thead>\n",
              "    <tr>\n",
              "      <th></th>\n",
              "      <th colspan=\"8\" halign=\"left\">highway_mileage</th>\n",
              "    </tr>\n",
              "    <tr>\n",
              "      <th></th>\n",
              "      <th>count</th>\n",
              "      <th>mean</th>\n",
              "      <th>std</th>\n",
              "      <th>min</th>\n",
              "      <th>25%</th>\n",
              "      <th>50%</th>\n",
              "      <th>75%</th>\n",
              "      <th>max</th>\n",
              "    </tr>\n",
              "    <tr>\n",
              "      <th>driving</th>\n",
              "      <th></th>\n",
              "      <th></th>\n",
              "      <th></th>\n",
              "      <th></th>\n",
              "      <th></th>\n",
              "      <th></th>\n",
              "      <th></th>\n",
              "      <th></th>\n",
              "    </tr>\n",
              "  </thead>\n",
              "  <tbody>\n",
              "    <tr>\n",
              "      <th>4</th>\n",
              "      <td>103.0</td>\n",
              "      <td>19.174757</td>\n",
              "      <td>4.078704</td>\n",
              "      <td>12.0</td>\n",
              "      <td>17.0</td>\n",
              "      <td>18.0</td>\n",
              "      <td>22.0</td>\n",
              "      <td>28.0</td>\n",
              "    </tr>\n",
              "    <tr>\n",
              "      <th>f</th>\n",
              "      <td>106.0</td>\n",
              "      <td>28.160377</td>\n",
              "      <td>4.206881</td>\n",
              "      <td>17.0</td>\n",
              "      <td>26.0</td>\n",
              "      <td>28.0</td>\n",
              "      <td>29.0</td>\n",
              "      <td>44.0</td>\n",
              "    </tr>\n",
              "    <tr>\n",
              "      <th>r</th>\n",
              "      <td>25.0</td>\n",
              "      <td>21.000000</td>\n",
              "      <td>3.662877</td>\n",
              "      <td>15.0</td>\n",
              "      <td>17.0</td>\n",
              "      <td>21.0</td>\n",
              "      <td>24.0</td>\n",
              "      <td>26.0</td>\n",
              "    </tr>\n",
              "  </tbody>\n",
              "</table>\n",
              "</div>\n",
              "    <div class=\"colab-df-buttons\">\n",
              "\n",
              "  <div class=\"colab-df-container\">\n",
              "    <button class=\"colab-df-convert\" onclick=\"convertToInteractive('df-6b102874-1c7d-4d71-bd95-4f6f57c53058')\"\n",
              "            title=\"Convert this dataframe to an interactive table.\"\n",
              "            style=\"display:none;\">\n",
              "\n",
              "  <svg xmlns=\"http://www.w3.org/2000/svg\" height=\"24px\" viewBox=\"0 -960 960 960\">\n",
              "    <path d=\"M120-120v-720h720v720H120Zm60-500h600v-160H180v160Zm220 220h160v-160H400v160Zm0 220h160v-160H400v160ZM180-400h160v-160H180v160Zm440 0h160v-160H620v160ZM180-180h160v-160H180v160Zm440 0h160v-160H620v160Z\"/>\n",
              "  </svg>\n",
              "    </button>\n",
              "\n",
              "  <style>\n",
              "    .colab-df-container {\n",
              "      display:flex;\n",
              "      gap: 12px;\n",
              "    }\n",
              "\n",
              "    .colab-df-convert {\n",
              "      background-color: #E8F0FE;\n",
              "      border: none;\n",
              "      border-radius: 50%;\n",
              "      cursor: pointer;\n",
              "      display: none;\n",
              "      fill: #1967D2;\n",
              "      height: 32px;\n",
              "      padding: 0 0 0 0;\n",
              "      width: 32px;\n",
              "    }\n",
              "\n",
              "    .colab-df-convert:hover {\n",
              "      background-color: #E2EBFA;\n",
              "      box-shadow: 0px 1px 2px rgba(60, 64, 67, 0.3), 0px 1px 3px 1px rgba(60, 64, 67, 0.15);\n",
              "      fill: #174EA6;\n",
              "    }\n",
              "\n",
              "    .colab-df-buttons div {\n",
              "      margin-bottom: 4px;\n",
              "    }\n",
              "\n",
              "    [theme=dark] .colab-df-convert {\n",
              "      background-color: #3B4455;\n",
              "      fill: #D2E3FC;\n",
              "    }\n",
              "\n",
              "    [theme=dark] .colab-df-convert:hover {\n",
              "      background-color: #434B5C;\n",
              "      box-shadow: 0px 1px 3px 1px rgba(0, 0, 0, 0.15);\n",
              "      filter: drop-shadow(0px 1px 2px rgba(0, 0, 0, 0.3));\n",
              "      fill: #FFFFFF;\n",
              "    }\n",
              "  </style>\n",
              "\n",
              "    <script>\n",
              "      const buttonEl =\n",
              "        document.querySelector('#df-6b102874-1c7d-4d71-bd95-4f6f57c53058 button.colab-df-convert');\n",
              "      buttonEl.style.display =\n",
              "        google.colab.kernel.accessAllowed ? 'block' : 'none';\n",
              "\n",
              "      async function convertToInteractive(key) {\n",
              "        const element = document.querySelector('#df-6b102874-1c7d-4d71-bd95-4f6f57c53058');\n",
              "        const dataTable =\n",
              "          await google.colab.kernel.invokeFunction('convertToInteractive',\n",
              "                                                    [key], {});\n",
              "        if (!dataTable) return;\n",
              "\n",
              "        const docLinkHtml = 'Like what you see? Visit the ' +\n",
              "          '<a target=\"_blank\" href=https://colab.research.google.com/notebooks/data_table.ipynb>data table notebook</a>'\n",
              "          + ' to learn more about interactive tables.';\n",
              "        element.innerHTML = '';\n",
              "        dataTable['output_type'] = 'display_data';\n",
              "        await google.colab.output.renderOutput(dataTable, element);\n",
              "        const docLink = document.createElement('div');\n",
              "        docLink.innerHTML = docLinkHtml;\n",
              "        element.appendChild(docLink);\n",
              "      }\n",
              "    </script>\n",
              "  </div>\n",
              "\n",
              "\n",
              "<div id=\"df-63c846dc-5449-46df-a1f4-1152fa0f6c1d\">\n",
              "  <button class=\"colab-df-quickchart\" onclick=\"quickchart('df-63c846dc-5449-46df-a1f4-1152fa0f6c1d')\"\n",
              "            title=\"Suggest charts\"\n",
              "            style=\"display:none;\">\n",
              "\n",
              "<svg xmlns=\"http://www.w3.org/2000/svg\" height=\"24px\"viewBox=\"0 0 24 24\"\n",
              "     width=\"24px\">\n",
              "    <g>\n",
              "        <path d=\"M19 3H5c-1.1 0-2 .9-2 2v14c0 1.1.9 2 2 2h14c1.1 0 2-.9 2-2V5c0-1.1-.9-2-2-2zM9 17H7v-7h2v7zm4 0h-2V7h2v10zm4 0h-2v-4h2v4z\"/>\n",
              "    </g>\n",
              "</svg>\n",
              "  </button>\n",
              "\n",
              "<style>\n",
              "  .colab-df-quickchart {\n",
              "      --bg-color: #E8F0FE;\n",
              "      --fill-color: #1967D2;\n",
              "      --hover-bg-color: #E2EBFA;\n",
              "      --hover-fill-color: #174EA6;\n",
              "      --disabled-fill-color: #AAA;\n",
              "      --disabled-bg-color: #DDD;\n",
              "  }\n",
              "\n",
              "  [theme=dark] .colab-df-quickchart {\n",
              "      --bg-color: #3B4455;\n",
              "      --fill-color: #D2E3FC;\n",
              "      --hover-bg-color: #434B5C;\n",
              "      --hover-fill-color: #FFFFFF;\n",
              "      --disabled-bg-color: #3B4455;\n",
              "      --disabled-fill-color: #666;\n",
              "  }\n",
              "\n",
              "  .colab-df-quickchart {\n",
              "    background-color: var(--bg-color);\n",
              "    border: none;\n",
              "    border-radius: 50%;\n",
              "    cursor: pointer;\n",
              "    display: none;\n",
              "    fill: var(--fill-color);\n",
              "    height: 32px;\n",
              "    padding: 0;\n",
              "    width: 32px;\n",
              "  }\n",
              "\n",
              "  .colab-df-quickchart:hover {\n",
              "    background-color: var(--hover-bg-color);\n",
              "    box-shadow: 0 1px 2px rgba(60, 64, 67, 0.3), 0 1px 3px 1px rgba(60, 64, 67, 0.15);\n",
              "    fill: var(--button-hover-fill-color);\n",
              "  }\n",
              "\n",
              "  .colab-df-quickchart-complete:disabled,\n",
              "  .colab-df-quickchart-complete:disabled:hover {\n",
              "    background-color: var(--disabled-bg-color);\n",
              "    fill: var(--disabled-fill-color);\n",
              "    box-shadow: none;\n",
              "  }\n",
              "\n",
              "  .colab-df-spinner {\n",
              "    border: 2px solid var(--fill-color);\n",
              "    border-color: transparent;\n",
              "    border-bottom-color: var(--fill-color);\n",
              "    animation:\n",
              "      spin 1s steps(1) infinite;\n",
              "  }\n",
              "\n",
              "  @keyframes spin {\n",
              "    0% {\n",
              "      border-color: transparent;\n",
              "      border-bottom-color: var(--fill-color);\n",
              "      border-left-color: var(--fill-color);\n",
              "    }\n",
              "    20% {\n",
              "      border-color: transparent;\n",
              "      border-left-color: var(--fill-color);\n",
              "      border-top-color: var(--fill-color);\n",
              "    }\n",
              "    30% {\n",
              "      border-color: transparent;\n",
              "      border-left-color: var(--fill-color);\n",
              "      border-top-color: var(--fill-color);\n",
              "      border-right-color: var(--fill-color);\n",
              "    }\n",
              "    40% {\n",
              "      border-color: transparent;\n",
              "      border-right-color: var(--fill-color);\n",
              "      border-top-color: var(--fill-color);\n",
              "    }\n",
              "    60% {\n",
              "      border-color: transparent;\n",
              "      border-right-color: var(--fill-color);\n",
              "    }\n",
              "    80% {\n",
              "      border-color: transparent;\n",
              "      border-right-color: var(--fill-color);\n",
              "      border-bottom-color: var(--fill-color);\n",
              "    }\n",
              "    90% {\n",
              "      border-color: transparent;\n",
              "      border-bottom-color: var(--fill-color);\n",
              "    }\n",
              "  }\n",
              "</style>\n",
              "\n",
              "  <script>\n",
              "    async function quickchart(key) {\n",
              "      const quickchartButtonEl =\n",
              "        document.querySelector('#' + key + ' button');\n",
              "      quickchartButtonEl.disabled = true;  // To prevent multiple clicks.\n",
              "      quickchartButtonEl.classList.add('colab-df-spinner');\n",
              "      try {\n",
              "        const charts = await google.colab.kernel.invokeFunction(\n",
              "            'suggestCharts', [key], {});\n",
              "      } catch (error) {\n",
              "        console.error('Error during call to suggestCharts:', error);\n",
              "      }\n",
              "      quickchartButtonEl.classList.remove('colab-df-spinner');\n",
              "      quickchartButtonEl.classList.add('colab-df-quickchart-complete');\n",
              "    }\n",
              "    (() => {\n",
              "      let quickchartButtonEl =\n",
              "        document.querySelector('#df-63c846dc-5449-46df-a1f4-1152fa0f6c1d button');\n",
              "      quickchartButtonEl.style.display =\n",
              "        google.colab.kernel.accessAllowed ? 'block' : 'none';\n",
              "    })();\n",
              "  </script>\n",
              "</div>\n",
              "    </div>\n",
              "  </div>\n"
            ],
            "application/vnd.google.colaboratory.intrinsic+json": {
              "type": "dataframe",
              "summary": "{\n  \"name\": \"df_highway\",\n  \"rows\": 3,\n  \"fields\": [\n    {\n      \"column\": [\n        \"highway_mileage\",\n        \"count\"\n      ],\n      \"properties\": {\n        \"dtype\": \"number\",\n        \"std\": 45.92385001282014,\n        \"min\": 25.0,\n        \"max\": 106.0,\n        \"num_unique_values\": 3,\n        \"samples\": [\n          103.0,\n          106.0,\n          25.0\n        ],\n        \"semantic_type\": \"\",\n        \"description\": \"\"\n      }\n    },\n    {\n      \"column\": [\n        \"highway_mileage\",\n        \"mean\"\n      ],\n      \"properties\": {\n        \"dtype\": \"number\",\n        \"std\": 4.749454057473046,\n        \"min\": 19.174757281553397,\n        \"max\": 28.160377358490567,\n        \"num_unique_values\": 3,\n        \"samples\": [\n          19.174757281553397,\n          28.160377358490567,\n          21.0\n        ],\n        \"semantic_type\": \"\",\n        \"description\": \"\"\n      }\n    },\n    {\n      \"column\": [\n        \"highway_mileage\",\n        \"std\"\n      ],\n      \"properties\": {\n        \"dtype\": \"number\",\n        \"std\": 0.2843945390261781,\n        \"min\": 3.662876829305985,\n        \"max\": 4.206880514795754,\n        \"num_unique_values\": 3,\n        \"samples\": [\n          4.078704101352847,\n          4.206880514795754,\n          3.662876829305985\n        ],\n        \"semantic_type\": \"\",\n        \"description\": \"\"\n      }\n    },\n    {\n      \"column\": [\n        \"highway_mileage\",\n        \"min\"\n      ],\n      \"properties\": {\n        \"dtype\": \"number\",\n        \"std\": 2.516611478423583,\n        \"min\": 12.0,\n        \"max\": 17.0,\n        \"num_unique_values\": 3,\n        \"samples\": [\n          12.0,\n          17.0,\n          15.0\n        ],\n        \"semantic_type\": \"\",\n        \"description\": \"\"\n      }\n    },\n    {\n      \"column\": [\n        \"highway_mileage\",\n        \"25%\"\n      ],\n      \"properties\": {\n        \"dtype\": \"number\",\n        \"std\": 5.196152422706632,\n        \"min\": 17.0,\n        \"max\": 26.0,\n        \"num_unique_values\": 2,\n        \"samples\": [\n          26.0,\n          17.0\n        ],\n        \"semantic_type\": \"\",\n        \"description\": \"\"\n      }\n    },\n    {\n      \"column\": [\n        \"highway_mileage\",\n        \"50%\"\n      ],\n      \"properties\": {\n        \"dtype\": \"number\",\n        \"std\": 5.131601439446884,\n        \"min\": 18.0,\n        \"max\": 28.0,\n        \"num_unique_values\": 3,\n        \"samples\": [\n          18.0,\n          28.0\n        ],\n        \"semantic_type\": \"\",\n        \"description\": \"\"\n      }\n    },\n    {\n      \"column\": [\n        \"highway_mileage\",\n        \"75%\"\n      ],\n      \"properties\": {\n        \"dtype\": \"number\",\n        \"std\": 3.605551275463989,\n        \"min\": 22.0,\n        \"max\": 29.0,\n        \"num_unique_values\": 3,\n        \"samples\": [\n          22.0,\n          29.0\n        ],\n        \"semantic_type\": \"\",\n        \"description\": \"\"\n      }\n    },\n    {\n      \"column\": [\n        \"highway_mileage\",\n        \"max\"\n      ],\n      \"properties\": {\n        \"dtype\": \"number\",\n        \"std\": 9.865765724632494,\n        \"min\": 26.0,\n        \"max\": 44.0,\n        \"num_unique_values\": 3,\n        \"samples\": [\n          28.0,\n          44.0\n        ],\n        \"semantic_type\": \"\",\n        \"description\": \"\"\n      }\n    }\n  ]\n}"
            }
          },
          "metadata": {},
          "execution_count": 3
        }
      ]
    },
    {
      "cell_type": "markdown",
      "source": [
        "4륜구동 : 평균 : 19.17 , 표준편차 4.08 , 최소값 : 12 , Q1 : 17, Q2 : 18 , Q3 : 22 , 최대값 : 28 <br>\n",
        "전륜구동 : 평균 : 28.16 , 표준편차 4.21 , 최소값 : 17 , Q1 : 26, Q2 : 28 , Q3 : 29 , 최대값 : 44 <br>\n",
        "후륜구동 : 평균 : 21 , 표준편차 3.66 , 최소값 : 15 , Q1 : 17, Q2 : 21 , Q3 : 24 , 최대값 : 26"
      ],
      "metadata": {
        "id": "C_0YBof_s_gt"
      }
    },
    {
      "cell_type": "markdown",
      "source": [
        "# 실습2\n",
        "구동방식, 모델에 대한 counts, percents , cumulative counts, cumulative percents를 계산하시오"
      ],
      "metadata": {
        "id": "Ln9PIM6FtYWv"
      }
    },
    {
      "cell_type": "code",
      "source": [
        "df = pd.read_csv(\"mycars.csv\")\n",
        "df = df[[\"driving\",\"model\"]]\n",
        "count = df['driving'].value_counts().sort_index()\n",
        "cumcnt = np.cumsum(count)\n",
        "percent = count / sum(count) * 100\n",
        "cumpct = np.cumsum(percent)\n",
        "df_count = pd.DataFrame({'Count': count,\n",
        "                         'CumCnt': cumcnt,\n",
        "                         'Percent': percent,\n",
        "                         'CumPct': cumpct})\n",
        "df_count.columns.name = 'driving'\n",
        "df_count"
      ],
      "metadata": {
        "colab": {
          "base_uri": "https://localhost:8080/",
          "height": 143
        },
        "id": "JnLg-NnisZK0",
        "outputId": "7fbcf52e-dd0e-4732-9bf0-4db885ccab32"
      },
      "execution_count": 4,
      "outputs": [
        {
          "output_type": "execute_result",
          "data": {
            "text/plain": [
              "driving  Count  CumCnt    Percent      CumPct\n",
              "4          103     103  44.017094   44.017094\n",
              "f          106     209  45.299145   89.316239\n",
              "r           25     234  10.683761  100.000000"
            ],
            "text/html": [
              "\n",
              "  <div id=\"df-129cd4c8-1d14-4e88-84ff-ecf09b90d431\" class=\"colab-df-container\">\n",
              "    <div>\n",
              "<style scoped>\n",
              "    .dataframe tbody tr th:only-of-type {\n",
              "        vertical-align: middle;\n",
              "    }\n",
              "\n",
              "    .dataframe tbody tr th {\n",
              "        vertical-align: top;\n",
              "    }\n",
              "\n",
              "    .dataframe thead th {\n",
              "        text-align: right;\n",
              "    }\n",
              "</style>\n",
              "<table border=\"1\" class=\"dataframe\">\n",
              "  <thead>\n",
              "    <tr style=\"text-align: right;\">\n",
              "      <th>driving</th>\n",
              "      <th>Count</th>\n",
              "      <th>CumCnt</th>\n",
              "      <th>Percent</th>\n",
              "      <th>CumPct</th>\n",
              "    </tr>\n",
              "  </thead>\n",
              "  <tbody>\n",
              "    <tr>\n",
              "      <th>4</th>\n",
              "      <td>103</td>\n",
              "      <td>103</td>\n",
              "      <td>44.017094</td>\n",
              "      <td>44.017094</td>\n",
              "    </tr>\n",
              "    <tr>\n",
              "      <th>f</th>\n",
              "      <td>106</td>\n",
              "      <td>209</td>\n",
              "      <td>45.299145</td>\n",
              "      <td>89.316239</td>\n",
              "    </tr>\n",
              "    <tr>\n",
              "      <th>r</th>\n",
              "      <td>25</td>\n",
              "      <td>234</td>\n",
              "      <td>10.683761</td>\n",
              "      <td>100.000000</td>\n",
              "    </tr>\n",
              "  </tbody>\n",
              "</table>\n",
              "</div>\n",
              "    <div class=\"colab-df-buttons\">\n",
              "\n",
              "  <div class=\"colab-df-container\">\n",
              "    <button class=\"colab-df-convert\" onclick=\"convertToInteractive('df-129cd4c8-1d14-4e88-84ff-ecf09b90d431')\"\n",
              "            title=\"Convert this dataframe to an interactive table.\"\n",
              "            style=\"display:none;\">\n",
              "\n",
              "  <svg xmlns=\"http://www.w3.org/2000/svg\" height=\"24px\" viewBox=\"0 -960 960 960\">\n",
              "    <path d=\"M120-120v-720h720v720H120Zm60-500h600v-160H180v160Zm220 220h160v-160H400v160Zm0 220h160v-160H400v160ZM180-400h160v-160H180v160Zm440 0h160v-160H620v160ZM180-180h160v-160H180v160Zm440 0h160v-160H620v160Z\"/>\n",
              "  </svg>\n",
              "    </button>\n",
              "\n",
              "  <style>\n",
              "    .colab-df-container {\n",
              "      display:flex;\n",
              "      gap: 12px;\n",
              "    }\n",
              "\n",
              "    .colab-df-convert {\n",
              "      background-color: #E8F0FE;\n",
              "      border: none;\n",
              "      border-radius: 50%;\n",
              "      cursor: pointer;\n",
              "      display: none;\n",
              "      fill: #1967D2;\n",
              "      height: 32px;\n",
              "      padding: 0 0 0 0;\n",
              "      width: 32px;\n",
              "    }\n",
              "\n",
              "    .colab-df-convert:hover {\n",
              "      background-color: #E2EBFA;\n",
              "      box-shadow: 0px 1px 2px rgba(60, 64, 67, 0.3), 0px 1px 3px 1px rgba(60, 64, 67, 0.15);\n",
              "      fill: #174EA6;\n",
              "    }\n",
              "\n",
              "    .colab-df-buttons div {\n",
              "      margin-bottom: 4px;\n",
              "    }\n",
              "\n",
              "    [theme=dark] .colab-df-convert {\n",
              "      background-color: #3B4455;\n",
              "      fill: #D2E3FC;\n",
              "    }\n",
              "\n",
              "    [theme=dark] .colab-df-convert:hover {\n",
              "      background-color: #434B5C;\n",
              "      box-shadow: 0px 1px 3px 1px rgba(0, 0, 0, 0.15);\n",
              "      filter: drop-shadow(0px 1px 2px rgba(0, 0, 0, 0.3));\n",
              "      fill: #FFFFFF;\n",
              "    }\n",
              "  </style>\n",
              "\n",
              "    <script>\n",
              "      const buttonEl =\n",
              "        document.querySelector('#df-129cd4c8-1d14-4e88-84ff-ecf09b90d431 button.colab-df-convert');\n",
              "      buttonEl.style.display =\n",
              "        google.colab.kernel.accessAllowed ? 'block' : 'none';\n",
              "\n",
              "      async function convertToInteractive(key) {\n",
              "        const element = document.querySelector('#df-129cd4c8-1d14-4e88-84ff-ecf09b90d431');\n",
              "        const dataTable =\n",
              "          await google.colab.kernel.invokeFunction('convertToInteractive',\n",
              "                                                    [key], {});\n",
              "        if (!dataTable) return;\n",
              "\n",
              "        const docLinkHtml = 'Like what you see? Visit the ' +\n",
              "          '<a target=\"_blank\" href=https://colab.research.google.com/notebooks/data_table.ipynb>data table notebook</a>'\n",
              "          + ' to learn more about interactive tables.';\n",
              "        element.innerHTML = '';\n",
              "        dataTable['output_type'] = 'display_data';\n",
              "        await google.colab.output.renderOutput(dataTable, element);\n",
              "        const docLink = document.createElement('div');\n",
              "        docLink.innerHTML = docLinkHtml;\n",
              "        element.appendChild(docLink);\n",
              "      }\n",
              "    </script>\n",
              "  </div>\n",
              "\n",
              "\n",
              "<div id=\"df-1784d446-5130-4dba-8971-c91ce5e446eb\">\n",
              "  <button class=\"colab-df-quickchart\" onclick=\"quickchart('df-1784d446-5130-4dba-8971-c91ce5e446eb')\"\n",
              "            title=\"Suggest charts\"\n",
              "            style=\"display:none;\">\n",
              "\n",
              "<svg xmlns=\"http://www.w3.org/2000/svg\" height=\"24px\"viewBox=\"0 0 24 24\"\n",
              "     width=\"24px\">\n",
              "    <g>\n",
              "        <path d=\"M19 3H5c-1.1 0-2 .9-2 2v14c0 1.1.9 2 2 2h14c1.1 0 2-.9 2-2V5c0-1.1-.9-2-2-2zM9 17H7v-7h2v7zm4 0h-2V7h2v10zm4 0h-2v-4h2v4z\"/>\n",
              "    </g>\n",
              "</svg>\n",
              "  </button>\n",
              "\n",
              "<style>\n",
              "  .colab-df-quickchart {\n",
              "      --bg-color: #E8F0FE;\n",
              "      --fill-color: #1967D2;\n",
              "      --hover-bg-color: #E2EBFA;\n",
              "      --hover-fill-color: #174EA6;\n",
              "      --disabled-fill-color: #AAA;\n",
              "      --disabled-bg-color: #DDD;\n",
              "  }\n",
              "\n",
              "  [theme=dark] .colab-df-quickchart {\n",
              "      --bg-color: #3B4455;\n",
              "      --fill-color: #D2E3FC;\n",
              "      --hover-bg-color: #434B5C;\n",
              "      --hover-fill-color: #FFFFFF;\n",
              "      --disabled-bg-color: #3B4455;\n",
              "      --disabled-fill-color: #666;\n",
              "  }\n",
              "\n",
              "  .colab-df-quickchart {\n",
              "    background-color: var(--bg-color);\n",
              "    border: none;\n",
              "    border-radius: 50%;\n",
              "    cursor: pointer;\n",
              "    display: none;\n",
              "    fill: var(--fill-color);\n",
              "    height: 32px;\n",
              "    padding: 0;\n",
              "    width: 32px;\n",
              "  }\n",
              "\n",
              "  .colab-df-quickchart:hover {\n",
              "    background-color: var(--hover-bg-color);\n",
              "    box-shadow: 0 1px 2px rgba(60, 64, 67, 0.3), 0 1px 3px 1px rgba(60, 64, 67, 0.15);\n",
              "    fill: var(--button-hover-fill-color);\n",
              "  }\n",
              "\n",
              "  .colab-df-quickchart-complete:disabled,\n",
              "  .colab-df-quickchart-complete:disabled:hover {\n",
              "    background-color: var(--disabled-bg-color);\n",
              "    fill: var(--disabled-fill-color);\n",
              "    box-shadow: none;\n",
              "  }\n",
              "\n",
              "  .colab-df-spinner {\n",
              "    border: 2px solid var(--fill-color);\n",
              "    border-color: transparent;\n",
              "    border-bottom-color: var(--fill-color);\n",
              "    animation:\n",
              "      spin 1s steps(1) infinite;\n",
              "  }\n",
              "\n",
              "  @keyframes spin {\n",
              "    0% {\n",
              "      border-color: transparent;\n",
              "      border-bottom-color: var(--fill-color);\n",
              "      border-left-color: var(--fill-color);\n",
              "    }\n",
              "    20% {\n",
              "      border-color: transparent;\n",
              "      border-left-color: var(--fill-color);\n",
              "      border-top-color: var(--fill-color);\n",
              "    }\n",
              "    30% {\n",
              "      border-color: transparent;\n",
              "      border-left-color: var(--fill-color);\n",
              "      border-top-color: var(--fill-color);\n",
              "      border-right-color: var(--fill-color);\n",
              "    }\n",
              "    40% {\n",
              "      border-color: transparent;\n",
              "      border-right-color: var(--fill-color);\n",
              "      border-top-color: var(--fill-color);\n",
              "    }\n",
              "    60% {\n",
              "      border-color: transparent;\n",
              "      border-right-color: var(--fill-color);\n",
              "    }\n",
              "    80% {\n",
              "      border-color: transparent;\n",
              "      border-right-color: var(--fill-color);\n",
              "      border-bottom-color: var(--fill-color);\n",
              "    }\n",
              "    90% {\n",
              "      border-color: transparent;\n",
              "      border-bottom-color: var(--fill-color);\n",
              "    }\n",
              "  }\n",
              "</style>\n",
              "\n",
              "  <script>\n",
              "    async function quickchart(key) {\n",
              "      const quickchartButtonEl =\n",
              "        document.querySelector('#' + key + ' button');\n",
              "      quickchartButtonEl.disabled = true;  // To prevent multiple clicks.\n",
              "      quickchartButtonEl.classList.add('colab-df-spinner');\n",
              "      try {\n",
              "        const charts = await google.colab.kernel.invokeFunction(\n",
              "            'suggestCharts', [key], {});\n",
              "      } catch (error) {\n",
              "        console.error('Error during call to suggestCharts:', error);\n",
              "      }\n",
              "      quickchartButtonEl.classList.remove('colab-df-spinner');\n",
              "      quickchartButtonEl.classList.add('colab-df-quickchart-complete');\n",
              "    }\n",
              "    (() => {\n",
              "      let quickchartButtonEl =\n",
              "        document.querySelector('#df-1784d446-5130-4dba-8971-c91ce5e446eb button');\n",
              "      quickchartButtonEl.style.display =\n",
              "        google.colab.kernel.accessAllowed ? 'block' : 'none';\n",
              "    })();\n",
              "  </script>\n",
              "</div>\n",
              "    </div>\n",
              "  </div>\n"
            ],
            "application/vnd.google.colaboratory.intrinsic+json": {
              "type": "dataframe",
              "variable_name": "df_count",
              "summary": "{\n  \"name\": \"df_count\",\n  \"rows\": 3,\n  \"fields\": [\n    {\n      \"column\": \"Count\",\n      \"properties\": {\n        \"dtype\": \"number\",\n        \"std\": 45,\n        \"min\": 25,\n        \"max\": 106,\n        \"num_unique_values\": 3,\n        \"samples\": [\n          103,\n          106,\n          25\n        ],\n        \"semantic_type\": \"\",\n        \"description\": \"\"\n      }\n    },\n    {\n      \"column\": \"CumCnt\",\n      \"properties\": {\n        \"dtype\": \"number\",\n        \"std\": 69,\n        \"min\": 103,\n        \"max\": 234,\n        \"num_unique_values\": 3,\n        \"samples\": [\n          103,\n          209,\n          234\n        ],\n        \"semantic_type\": \"\",\n        \"description\": \"\"\n      }\n    },\n    {\n      \"column\": \"Percent\",\n      \"properties\": {\n        \"dtype\": \"number\",\n        \"std\": 19.625576928555617,\n        \"min\": 10.683760683760683,\n        \"max\": 45.2991452991453,\n        \"num_unique_values\": 3,\n        \"samples\": [\n          44.01709401709402,\n          45.2991452991453,\n          10.683760683760683\n        ],\n        \"semantic_type\": \"\",\n        \"description\": \"\"\n      }\n    },\n    {\n      \"column\": \"CumPct\",\n      \"properties\": {\n        \"dtype\": \"number\",\n        \"std\": 29.721600084427482,\n        \"min\": 44.01709401709402,\n        \"max\": 100.0,\n        \"num_unique_values\": 3,\n        \"samples\": [\n          44.01709401709402,\n          89.31623931623932,\n          100.0\n        ],\n        \"semantic_type\": \"\",\n        \"description\": \"\"\n      }\n    }\n  ]\n}"
            }
          },
          "metadata": {},
          "execution_count": 4
        }
      ]
    },
    {
      "cell_type": "markdown",
      "source": [
        "전륜구동이 가장 많고, 그 다음 4륜 그 다음 후륜구동이 가장많은것을 알 수 있다.\n"
      ],
      "metadata": {
        "id": "6UJNmpkNug3j"
      }
    },
    {
      "cell_type": "code",
      "source": [
        "df = pd.read_csv(\"mycars.csv\")\n",
        "df = df[[\"driving\",\"model\"]]\n",
        "count = df['model'].value_counts().sort_index()\n",
        "cumcnt = np.cumsum(count)\n",
        "percent = count / sum(count) * 100\n",
        "cumpct = np.cumsum(percent)\n",
        "df_count = pd.DataFrame({'Count': count,\n",
        "                         'CumCnt': cumcnt,\n",
        "                         'Percent': percent,\n",
        "                         'CumPct': cumpct})\n",
        "df_count.columns.name = 'model'\n",
        "df_count"
      ],
      "metadata": {
        "colab": {
          "base_uri": "https://localhost:8080/",
          "height": 1000
        },
        "id": "cLbXEfIouVJh",
        "outputId": "44729ccd-f1d7-4418-8457-6cbc6e4ff2b3"
      },
      "execution_count": 5,
      "outputs": [
        {
          "output_type": "execute_result",
          "data": {
            "text/plain": [
              "model                   Count  CumCnt   Percent      CumPct\n",
              "4runner 4wd                 6       6  2.564103    2.564103\n",
              "a4                          7      13  2.991453    5.555556\n",
              "a4 quattro                  8      21  3.418803    8.974359\n",
              "a6 quattro                  3      24  1.282051   10.256410\n",
              "altima                      6      30  2.564103   12.820513\n",
              "c1500 suburban 2wd          5      35  2.136752   14.957265\n",
              "camry                       7      42  2.991453   17.948718\n",
              "camry solara                7      49  2.991453   20.940171\n",
              "caravan 2wd                11      60  4.700855   25.641026\n",
              "civic                       9      69  3.846154   29.487179\n",
              "corolla                     5      74  2.136752   31.623932\n",
              "corvette                    5      79  2.136752   33.760684\n",
              "dakota pickup 4wd           9      88  3.846154   37.606838\n",
              "durango 4wd                 7      95  2.991453   40.598291\n",
              "expedition 2wd              3      98  1.282051   41.880342\n",
              "explorer 4wd                6     104  2.564103   44.444444\n",
              "f150 pickup 4wd             7     111  2.991453   47.435897\n",
              "forester awd                6     117  2.564103   50.000000\n",
              "grand cherokee 4wd          8     125  3.418803   53.418803\n",
              "grand prix                  5     130  2.136752   55.555556\n",
              "gti                         5     135  2.136752   57.692308\n",
              "impreza awd                 8     143  3.418803   61.111111\n",
              "jetta                       9     152  3.846154   64.957265\n",
              "k1500 tahoe 4wd             4     156  1.709402   66.666667\n",
              "land cruiser wagon 4wd      2     158  0.854701   67.521368\n",
              "malibu                      5     163  2.136752   69.658120\n",
              "maxima                      3     166  1.282051   70.940171\n",
              "mountaineer 4wd             4     170  1.709402   72.649573\n",
              "mustang                     9     179  3.846154   76.495726\n",
              "navigator 2wd               3     182  1.282051   77.777778\n",
              "new beetle                  6     188  2.564103   80.341880\n",
              "passat                      7     195  2.991453   83.333333\n",
              "pathfinder 4wd              4     199  1.709402   85.042735\n",
              "ram 1500 pickup 4wd        10     209  4.273504   89.316239\n",
              "range rover                 4     213  1.709402   91.025641\n",
              "sonata                      7     220  2.991453   94.017094\n",
              "tiburon                     7     227  2.991453   97.008547\n",
              "toyota tacoma 4wd           7     234  2.991453  100.000000"
            ],
            "text/html": [
              "\n",
              "  <div id=\"df-ee2f381a-97a4-498e-99f1-82b294b2a07c\" class=\"colab-df-container\">\n",
              "    <div>\n",
              "<style scoped>\n",
              "    .dataframe tbody tr th:only-of-type {\n",
              "        vertical-align: middle;\n",
              "    }\n",
              "\n",
              "    .dataframe tbody tr th {\n",
              "        vertical-align: top;\n",
              "    }\n",
              "\n",
              "    .dataframe thead th {\n",
              "        text-align: right;\n",
              "    }\n",
              "</style>\n",
              "<table border=\"1\" class=\"dataframe\">\n",
              "  <thead>\n",
              "    <tr style=\"text-align: right;\">\n",
              "      <th>model</th>\n",
              "      <th>Count</th>\n",
              "      <th>CumCnt</th>\n",
              "      <th>Percent</th>\n",
              "      <th>CumPct</th>\n",
              "    </tr>\n",
              "  </thead>\n",
              "  <tbody>\n",
              "    <tr>\n",
              "      <th>4runner 4wd</th>\n",
              "      <td>6</td>\n",
              "      <td>6</td>\n",
              "      <td>2.564103</td>\n",
              "      <td>2.564103</td>\n",
              "    </tr>\n",
              "    <tr>\n",
              "      <th>a4</th>\n",
              "      <td>7</td>\n",
              "      <td>13</td>\n",
              "      <td>2.991453</td>\n",
              "      <td>5.555556</td>\n",
              "    </tr>\n",
              "    <tr>\n",
              "      <th>a4 quattro</th>\n",
              "      <td>8</td>\n",
              "      <td>21</td>\n",
              "      <td>3.418803</td>\n",
              "      <td>8.974359</td>\n",
              "    </tr>\n",
              "    <tr>\n",
              "      <th>a6 quattro</th>\n",
              "      <td>3</td>\n",
              "      <td>24</td>\n",
              "      <td>1.282051</td>\n",
              "      <td>10.256410</td>\n",
              "    </tr>\n",
              "    <tr>\n",
              "      <th>altima</th>\n",
              "      <td>6</td>\n",
              "      <td>30</td>\n",
              "      <td>2.564103</td>\n",
              "      <td>12.820513</td>\n",
              "    </tr>\n",
              "    <tr>\n",
              "      <th>c1500 suburban 2wd</th>\n",
              "      <td>5</td>\n",
              "      <td>35</td>\n",
              "      <td>2.136752</td>\n",
              "      <td>14.957265</td>\n",
              "    </tr>\n",
              "    <tr>\n",
              "      <th>camry</th>\n",
              "      <td>7</td>\n",
              "      <td>42</td>\n",
              "      <td>2.991453</td>\n",
              "      <td>17.948718</td>\n",
              "    </tr>\n",
              "    <tr>\n",
              "      <th>camry solara</th>\n",
              "      <td>7</td>\n",
              "      <td>49</td>\n",
              "      <td>2.991453</td>\n",
              "      <td>20.940171</td>\n",
              "    </tr>\n",
              "    <tr>\n",
              "      <th>caravan 2wd</th>\n",
              "      <td>11</td>\n",
              "      <td>60</td>\n",
              "      <td>4.700855</td>\n",
              "      <td>25.641026</td>\n",
              "    </tr>\n",
              "    <tr>\n",
              "      <th>civic</th>\n",
              "      <td>9</td>\n",
              "      <td>69</td>\n",
              "      <td>3.846154</td>\n",
              "      <td>29.487179</td>\n",
              "    </tr>\n",
              "    <tr>\n",
              "      <th>corolla</th>\n",
              "      <td>5</td>\n",
              "      <td>74</td>\n",
              "      <td>2.136752</td>\n",
              "      <td>31.623932</td>\n",
              "    </tr>\n",
              "    <tr>\n",
              "      <th>corvette</th>\n",
              "      <td>5</td>\n",
              "      <td>79</td>\n",
              "      <td>2.136752</td>\n",
              "      <td>33.760684</td>\n",
              "    </tr>\n",
              "    <tr>\n",
              "      <th>dakota pickup 4wd</th>\n",
              "      <td>9</td>\n",
              "      <td>88</td>\n",
              "      <td>3.846154</td>\n",
              "      <td>37.606838</td>\n",
              "    </tr>\n",
              "    <tr>\n",
              "      <th>durango 4wd</th>\n",
              "      <td>7</td>\n",
              "      <td>95</td>\n",
              "      <td>2.991453</td>\n",
              "      <td>40.598291</td>\n",
              "    </tr>\n",
              "    <tr>\n",
              "      <th>expedition 2wd</th>\n",
              "      <td>3</td>\n",
              "      <td>98</td>\n",
              "      <td>1.282051</td>\n",
              "      <td>41.880342</td>\n",
              "    </tr>\n",
              "    <tr>\n",
              "      <th>explorer 4wd</th>\n",
              "      <td>6</td>\n",
              "      <td>104</td>\n",
              "      <td>2.564103</td>\n",
              "      <td>44.444444</td>\n",
              "    </tr>\n",
              "    <tr>\n",
              "      <th>f150 pickup 4wd</th>\n",
              "      <td>7</td>\n",
              "      <td>111</td>\n",
              "      <td>2.991453</td>\n",
              "      <td>47.435897</td>\n",
              "    </tr>\n",
              "    <tr>\n",
              "      <th>forester awd</th>\n",
              "      <td>6</td>\n",
              "      <td>117</td>\n",
              "      <td>2.564103</td>\n",
              "      <td>50.000000</td>\n",
              "    </tr>\n",
              "    <tr>\n",
              "      <th>grand cherokee 4wd</th>\n",
              "      <td>8</td>\n",
              "      <td>125</td>\n",
              "      <td>3.418803</td>\n",
              "      <td>53.418803</td>\n",
              "    </tr>\n",
              "    <tr>\n",
              "      <th>grand prix</th>\n",
              "      <td>5</td>\n",
              "      <td>130</td>\n",
              "      <td>2.136752</td>\n",
              "      <td>55.555556</td>\n",
              "    </tr>\n",
              "    <tr>\n",
              "      <th>gti</th>\n",
              "      <td>5</td>\n",
              "      <td>135</td>\n",
              "      <td>2.136752</td>\n",
              "      <td>57.692308</td>\n",
              "    </tr>\n",
              "    <tr>\n",
              "      <th>impreza awd</th>\n",
              "      <td>8</td>\n",
              "      <td>143</td>\n",
              "      <td>3.418803</td>\n",
              "      <td>61.111111</td>\n",
              "    </tr>\n",
              "    <tr>\n",
              "      <th>jetta</th>\n",
              "      <td>9</td>\n",
              "      <td>152</td>\n",
              "      <td>3.846154</td>\n",
              "      <td>64.957265</td>\n",
              "    </tr>\n",
              "    <tr>\n",
              "      <th>k1500 tahoe 4wd</th>\n",
              "      <td>4</td>\n",
              "      <td>156</td>\n",
              "      <td>1.709402</td>\n",
              "      <td>66.666667</td>\n",
              "    </tr>\n",
              "    <tr>\n",
              "      <th>land cruiser wagon 4wd</th>\n",
              "      <td>2</td>\n",
              "      <td>158</td>\n",
              "      <td>0.854701</td>\n",
              "      <td>67.521368</td>\n",
              "    </tr>\n",
              "    <tr>\n",
              "      <th>malibu</th>\n",
              "      <td>5</td>\n",
              "      <td>163</td>\n",
              "      <td>2.136752</td>\n",
              "      <td>69.658120</td>\n",
              "    </tr>\n",
              "    <tr>\n",
              "      <th>maxima</th>\n",
              "      <td>3</td>\n",
              "      <td>166</td>\n",
              "      <td>1.282051</td>\n",
              "      <td>70.940171</td>\n",
              "    </tr>\n",
              "    <tr>\n",
              "      <th>mountaineer 4wd</th>\n",
              "      <td>4</td>\n",
              "      <td>170</td>\n",
              "      <td>1.709402</td>\n",
              "      <td>72.649573</td>\n",
              "    </tr>\n",
              "    <tr>\n",
              "      <th>mustang</th>\n",
              "      <td>9</td>\n",
              "      <td>179</td>\n",
              "      <td>3.846154</td>\n",
              "      <td>76.495726</td>\n",
              "    </tr>\n",
              "    <tr>\n",
              "      <th>navigator 2wd</th>\n",
              "      <td>3</td>\n",
              "      <td>182</td>\n",
              "      <td>1.282051</td>\n",
              "      <td>77.777778</td>\n",
              "    </tr>\n",
              "    <tr>\n",
              "      <th>new beetle</th>\n",
              "      <td>6</td>\n",
              "      <td>188</td>\n",
              "      <td>2.564103</td>\n",
              "      <td>80.341880</td>\n",
              "    </tr>\n",
              "    <tr>\n",
              "      <th>passat</th>\n",
              "      <td>7</td>\n",
              "      <td>195</td>\n",
              "      <td>2.991453</td>\n",
              "      <td>83.333333</td>\n",
              "    </tr>\n",
              "    <tr>\n",
              "      <th>pathfinder 4wd</th>\n",
              "      <td>4</td>\n",
              "      <td>199</td>\n",
              "      <td>1.709402</td>\n",
              "      <td>85.042735</td>\n",
              "    </tr>\n",
              "    <tr>\n",
              "      <th>ram 1500 pickup 4wd</th>\n",
              "      <td>10</td>\n",
              "      <td>209</td>\n",
              "      <td>4.273504</td>\n",
              "      <td>89.316239</td>\n",
              "    </tr>\n",
              "    <tr>\n",
              "      <th>range rover</th>\n",
              "      <td>4</td>\n",
              "      <td>213</td>\n",
              "      <td>1.709402</td>\n",
              "      <td>91.025641</td>\n",
              "    </tr>\n",
              "    <tr>\n",
              "      <th>sonata</th>\n",
              "      <td>7</td>\n",
              "      <td>220</td>\n",
              "      <td>2.991453</td>\n",
              "      <td>94.017094</td>\n",
              "    </tr>\n",
              "    <tr>\n",
              "      <th>tiburon</th>\n",
              "      <td>7</td>\n",
              "      <td>227</td>\n",
              "      <td>2.991453</td>\n",
              "      <td>97.008547</td>\n",
              "    </tr>\n",
              "    <tr>\n",
              "      <th>toyota tacoma 4wd</th>\n",
              "      <td>7</td>\n",
              "      <td>234</td>\n",
              "      <td>2.991453</td>\n",
              "      <td>100.000000</td>\n",
              "    </tr>\n",
              "  </tbody>\n",
              "</table>\n",
              "</div>\n",
              "    <div class=\"colab-df-buttons\">\n",
              "\n",
              "  <div class=\"colab-df-container\">\n",
              "    <button class=\"colab-df-convert\" onclick=\"convertToInteractive('df-ee2f381a-97a4-498e-99f1-82b294b2a07c')\"\n",
              "            title=\"Convert this dataframe to an interactive table.\"\n",
              "            style=\"display:none;\">\n",
              "\n",
              "  <svg xmlns=\"http://www.w3.org/2000/svg\" height=\"24px\" viewBox=\"0 -960 960 960\">\n",
              "    <path d=\"M120-120v-720h720v720H120Zm60-500h600v-160H180v160Zm220 220h160v-160H400v160Zm0 220h160v-160H400v160ZM180-400h160v-160H180v160Zm440 0h160v-160H620v160ZM180-180h160v-160H180v160Zm440 0h160v-160H620v160Z\"/>\n",
              "  </svg>\n",
              "    </button>\n",
              "\n",
              "  <style>\n",
              "    .colab-df-container {\n",
              "      display:flex;\n",
              "      gap: 12px;\n",
              "    }\n",
              "\n",
              "    .colab-df-convert {\n",
              "      background-color: #E8F0FE;\n",
              "      border: none;\n",
              "      border-radius: 50%;\n",
              "      cursor: pointer;\n",
              "      display: none;\n",
              "      fill: #1967D2;\n",
              "      height: 32px;\n",
              "      padding: 0 0 0 0;\n",
              "      width: 32px;\n",
              "    }\n",
              "\n",
              "    .colab-df-convert:hover {\n",
              "      background-color: #E2EBFA;\n",
              "      box-shadow: 0px 1px 2px rgba(60, 64, 67, 0.3), 0px 1px 3px 1px rgba(60, 64, 67, 0.15);\n",
              "      fill: #174EA6;\n",
              "    }\n",
              "\n",
              "    .colab-df-buttons div {\n",
              "      margin-bottom: 4px;\n",
              "    }\n",
              "\n",
              "    [theme=dark] .colab-df-convert {\n",
              "      background-color: #3B4455;\n",
              "      fill: #D2E3FC;\n",
              "    }\n",
              "\n",
              "    [theme=dark] .colab-df-convert:hover {\n",
              "      background-color: #434B5C;\n",
              "      box-shadow: 0px 1px 3px 1px rgba(0, 0, 0, 0.15);\n",
              "      filter: drop-shadow(0px 1px 2px rgba(0, 0, 0, 0.3));\n",
              "      fill: #FFFFFF;\n",
              "    }\n",
              "  </style>\n",
              "\n",
              "    <script>\n",
              "      const buttonEl =\n",
              "        document.querySelector('#df-ee2f381a-97a4-498e-99f1-82b294b2a07c button.colab-df-convert');\n",
              "      buttonEl.style.display =\n",
              "        google.colab.kernel.accessAllowed ? 'block' : 'none';\n",
              "\n",
              "      async function convertToInteractive(key) {\n",
              "        const element = document.querySelector('#df-ee2f381a-97a4-498e-99f1-82b294b2a07c');\n",
              "        const dataTable =\n",
              "          await google.colab.kernel.invokeFunction('convertToInteractive',\n",
              "                                                    [key], {});\n",
              "        if (!dataTable) return;\n",
              "\n",
              "        const docLinkHtml = 'Like what you see? Visit the ' +\n",
              "          '<a target=\"_blank\" href=https://colab.research.google.com/notebooks/data_table.ipynb>data table notebook</a>'\n",
              "          + ' to learn more about interactive tables.';\n",
              "        element.innerHTML = '';\n",
              "        dataTable['output_type'] = 'display_data';\n",
              "        await google.colab.output.renderOutput(dataTable, element);\n",
              "        const docLink = document.createElement('div');\n",
              "        docLink.innerHTML = docLinkHtml;\n",
              "        element.appendChild(docLink);\n",
              "      }\n",
              "    </script>\n",
              "  </div>\n",
              "\n",
              "\n",
              "<div id=\"df-dab8ca1c-d7ac-4a17-8574-3042037cad09\">\n",
              "  <button class=\"colab-df-quickchart\" onclick=\"quickchart('df-dab8ca1c-d7ac-4a17-8574-3042037cad09')\"\n",
              "            title=\"Suggest charts\"\n",
              "            style=\"display:none;\">\n",
              "\n",
              "<svg xmlns=\"http://www.w3.org/2000/svg\" height=\"24px\"viewBox=\"0 0 24 24\"\n",
              "     width=\"24px\">\n",
              "    <g>\n",
              "        <path d=\"M19 3H5c-1.1 0-2 .9-2 2v14c0 1.1.9 2 2 2h14c1.1 0 2-.9 2-2V5c0-1.1-.9-2-2-2zM9 17H7v-7h2v7zm4 0h-2V7h2v10zm4 0h-2v-4h2v4z\"/>\n",
              "    </g>\n",
              "</svg>\n",
              "  </button>\n",
              "\n",
              "<style>\n",
              "  .colab-df-quickchart {\n",
              "      --bg-color: #E8F0FE;\n",
              "      --fill-color: #1967D2;\n",
              "      --hover-bg-color: #E2EBFA;\n",
              "      --hover-fill-color: #174EA6;\n",
              "      --disabled-fill-color: #AAA;\n",
              "      --disabled-bg-color: #DDD;\n",
              "  }\n",
              "\n",
              "  [theme=dark] .colab-df-quickchart {\n",
              "      --bg-color: #3B4455;\n",
              "      --fill-color: #D2E3FC;\n",
              "      --hover-bg-color: #434B5C;\n",
              "      --hover-fill-color: #FFFFFF;\n",
              "      --disabled-bg-color: #3B4455;\n",
              "      --disabled-fill-color: #666;\n",
              "  }\n",
              "\n",
              "  .colab-df-quickchart {\n",
              "    background-color: var(--bg-color);\n",
              "    border: none;\n",
              "    border-radius: 50%;\n",
              "    cursor: pointer;\n",
              "    display: none;\n",
              "    fill: var(--fill-color);\n",
              "    height: 32px;\n",
              "    padding: 0;\n",
              "    width: 32px;\n",
              "  }\n",
              "\n",
              "  .colab-df-quickchart:hover {\n",
              "    background-color: var(--hover-bg-color);\n",
              "    box-shadow: 0 1px 2px rgba(60, 64, 67, 0.3), 0 1px 3px 1px rgba(60, 64, 67, 0.15);\n",
              "    fill: var(--button-hover-fill-color);\n",
              "  }\n",
              "\n",
              "  .colab-df-quickchart-complete:disabled,\n",
              "  .colab-df-quickchart-complete:disabled:hover {\n",
              "    background-color: var(--disabled-bg-color);\n",
              "    fill: var(--disabled-fill-color);\n",
              "    box-shadow: none;\n",
              "  }\n",
              "\n",
              "  .colab-df-spinner {\n",
              "    border: 2px solid var(--fill-color);\n",
              "    border-color: transparent;\n",
              "    border-bottom-color: var(--fill-color);\n",
              "    animation:\n",
              "      spin 1s steps(1) infinite;\n",
              "  }\n",
              "\n",
              "  @keyframes spin {\n",
              "    0% {\n",
              "      border-color: transparent;\n",
              "      border-bottom-color: var(--fill-color);\n",
              "      border-left-color: var(--fill-color);\n",
              "    }\n",
              "    20% {\n",
              "      border-color: transparent;\n",
              "      border-left-color: var(--fill-color);\n",
              "      border-top-color: var(--fill-color);\n",
              "    }\n",
              "    30% {\n",
              "      border-color: transparent;\n",
              "      border-left-color: var(--fill-color);\n",
              "      border-top-color: var(--fill-color);\n",
              "      border-right-color: var(--fill-color);\n",
              "    }\n",
              "    40% {\n",
              "      border-color: transparent;\n",
              "      border-right-color: var(--fill-color);\n",
              "      border-top-color: var(--fill-color);\n",
              "    }\n",
              "    60% {\n",
              "      border-color: transparent;\n",
              "      border-right-color: var(--fill-color);\n",
              "    }\n",
              "    80% {\n",
              "      border-color: transparent;\n",
              "      border-right-color: var(--fill-color);\n",
              "      border-bottom-color: var(--fill-color);\n",
              "    }\n",
              "    90% {\n",
              "      border-color: transparent;\n",
              "      border-bottom-color: var(--fill-color);\n",
              "    }\n",
              "  }\n",
              "</style>\n",
              "\n",
              "  <script>\n",
              "    async function quickchart(key) {\n",
              "      const quickchartButtonEl =\n",
              "        document.querySelector('#' + key + ' button');\n",
              "      quickchartButtonEl.disabled = true;  // To prevent multiple clicks.\n",
              "      quickchartButtonEl.classList.add('colab-df-spinner');\n",
              "      try {\n",
              "        const charts = await google.colab.kernel.invokeFunction(\n",
              "            'suggestCharts', [key], {});\n",
              "      } catch (error) {\n",
              "        console.error('Error during call to suggestCharts:', error);\n",
              "      }\n",
              "      quickchartButtonEl.classList.remove('colab-df-spinner');\n",
              "      quickchartButtonEl.classList.add('colab-df-quickchart-complete');\n",
              "    }\n",
              "    (() => {\n",
              "      let quickchartButtonEl =\n",
              "        document.querySelector('#df-dab8ca1c-d7ac-4a17-8574-3042037cad09 button');\n",
              "      quickchartButtonEl.style.display =\n",
              "        google.colab.kernel.accessAllowed ? 'block' : 'none';\n",
              "    })();\n",
              "  </script>\n",
              "</div>\n",
              "    </div>\n",
              "  </div>\n"
            ],
            "application/vnd.google.colaboratory.intrinsic+json": {
              "type": "dataframe",
              "variable_name": "df_count",
              "summary": "{\n  \"name\": \"df_count\",\n  \"rows\": 38,\n  \"fields\": [\n    {\n      \"column\": \"Count\",\n      \"properties\": {\n        \"dtype\": \"number\",\n        \"std\": 2,\n        \"min\": 2,\n        \"max\": 11,\n        \"num_unique_values\": 10,\n        \"samples\": [\n          2,\n          7,\n          11\n        ],\n        \"semantic_type\": \"\",\n        \"description\": \"\"\n      }\n    },\n    {\n      \"column\": \"CumCnt\",\n      \"properties\": {\n        \"dtype\": \"number\",\n        \"std\": 67,\n        \"min\": 6,\n        \"max\": 234,\n        \"num_unique_values\": 38,\n        \"samples\": [\n          209,\n          227,\n          30\n        ],\n        \"semantic_type\": \"\",\n        \"description\": \"\"\n      }\n    },\n    {\n      \"column\": \"Percent\",\n      \"properties\": {\n        \"dtype\": \"number\",\n        \"std\": 0.9188574916237692,\n        \"min\": 0.8547008547008548,\n        \"max\": 4.700854700854701,\n        \"num_unique_values\": 10,\n        \"samples\": [\n          0.8547008547008548,\n          2.9914529914529915,\n          4.700854700854701\n        ],\n        \"semantic_type\": \"\",\n        \"description\": \"\"\n      }\n    },\n    {\n      \"column\": \"CumPct\",\n      \"properties\": {\n        \"dtype\": \"number\",\n        \"std\": 28.802301390731344,\n        \"min\": 2.564102564102564,\n        \"max\": 99.99999999999997,\n        \"num_unique_values\": 38,\n        \"samples\": [\n          89.3162393162393,\n          97.00854700854698,\n          12.82051282051282\n        ],\n        \"semantic_type\": \"\",\n        \"description\": \"\"\n      }\n    }\n  ]\n}"
            }
          },
          "metadata": {},
          "execution_count": 5
        }
      ]
    },
    {
      "cell_type": "markdown",
      "source": [
        "# 실습3\n",
        "정규분포 계산문제"
      ],
      "metadata": {
        "id": "_8edOICXurdk"
      }
    },
    {
      "cell_type": "code",
      "source": [
        "x = 180\n",
        "mu = 175\n",
        "sigma = 5\n",
        "\n",
        "# prob : 180cm까지 누적확률값 계산\n",
        "prob = stats.norm.cdf(x, mu, sigma)\n",
        "print(\"나의 키가 180cm일 경우에 나는 몇% 범위에 위치할까요? : \",(1-prob).round(2)*100,\"%\")"
      ],
      "metadata": {
        "colab": {
          "base_uri": "https://localhost:8080/"
        },
        "id": "ulhEWZ31u6Nm",
        "outputId": "71e26ce1-73cf-433f-a459-dad882180eab"
      },
      "execution_count": 6,
      "outputs": [
        {
          "output_type": "stream",
          "name": "stdout",
          "text": [
            "나의 키가 180cm일 경우에 나는 몇% 범위에 위치할까요? :  16.0 %\n"
          ]
        }
      ]
    },
    {
      "cell_type": "markdown",
      "source": [
        "# 실습4\n",
        "정규분포 계산문제"
      ],
      "metadata": {
        "id": "5R6wFkNivkwh"
      }
    },
    {
      "cell_type": "code",
      "source": [
        "#1 1리터를 가지고 9km이상 15km 이하를 달릴 확률은 얼마인가요?\n",
        "\n",
        "x1 = 9\n",
        "x2 = 15\n",
        "mu = 12\n",
        "sigma = 3\n",
        "\n",
        "# prob1 : 9km까지 누적확률값 계산\n",
        "# prob2 : 15km까지 누적확률값 계산\n",
        "prob1 = stats.norm.cdf(x1, mu, sigma)\n",
        "prob2 = stats.norm.cdf(x2, mu, sigma)\n",
        "\n",
        "print(\"1리터를 가지고 9km이상 15km 이하를 달릴 확률은 얼마인가요? : \",(prob2-prob1).round(2)*100,\"%\")"
      ],
      "metadata": {
        "colab": {
          "base_uri": "https://localhost:8080/"
        },
        "id": "DTMJMbx6vjk9",
        "outputId": "f07ac2fc-9230-467c-8b5e-4b5bb394fd23"
      },
      "execution_count": 7,
      "outputs": [
        {
          "output_type": "stream",
          "name": "stdout",
          "text": [
            "1리터를 가지고 9km이상 15km 이하를 달릴 확률은 얼마인가요? :  68.0 %\n"
          ]
        }
      ]
    },
    {
      "cell_type": "code",
      "source": [
        "#2 1리터를 가지고 15km 이상을 달릴 확률은 얼마인가요?\n",
        "\n",
        "x = 15\n",
        "mu = 12\n",
        "sigma = 3\n",
        "\n",
        "# prob : 15km까지 누적확률값 계산\n",
        "prob = stats.norm.cdf(x, mu, sigma)\n",
        "print(\"1리터를 가지고 15km 이상을 달릴 확률은 얼마인가요? : \",(1-prob2).round(2)*100,\"%\")"
      ],
      "metadata": {
        "colab": {
          "base_uri": "https://localhost:8080/"
        },
        "id": "zFGgLqLVvD5q",
        "outputId": "40faa9e3-897d-4e90-c0e9-5a9009f60502"
      },
      "execution_count": 8,
      "outputs": [
        {
          "output_type": "stream",
          "name": "stdout",
          "text": [
            "1리터를 가지고 15km 이상을 달릴 확률은 얼마인가요? :  16.0 %\n"
          ]
        }
      ]
    },
    {
      "cell_type": "markdown",
      "source": [
        "# 실습5\n",
        "t분포 계산문제\n"
      ],
      "metadata": {
        "id": "St90I997woT3"
      }
    },
    {
      "cell_type": "code",
      "source": [
        "# t 분포 확률 계산하기\n",
        "t = 2\n",
        "df = 100\n",
        "\n",
        "# 누적확률 값 계산\n",
        "prob = stats.t.cdf(t, df)\n",
        "print(\" P(T<=t)= {:.1f}%\".format(prob*100))"
      ],
      "metadata": {
        "colab": {
          "base_uri": "https://localhost:8080/"
        },
        "id": "oB9CqNzCwb3z",
        "outputId": "641382df-24d3-4813-8ade-9fd9338ccf3f"
      },
      "execution_count": 9,
      "outputs": [
        {
          "output_type": "stream",
          "name": "stdout",
          "text": [
            " P(T<=t)= 97.6%\n"
          ]
        }
      ]
    },
    {
      "cell_type": "markdown",
      "source": [
        "# 실습6\n",
        "카이제곱 분포 계산문제"
      ],
      "metadata": {
        "id": "2LAK3y7qw76c"
      }
    },
    {
      "cell_type": "code",
      "source": [
        "chisq = 3\n",
        "df = 8\n",
        "\n",
        "prob = stats.chi2.cdf(chisq, df)\n",
        "print(\"χ2 누적확률 계산 : p(X<={0}) = {1:.4f}\".format(chisq, prob))"
      ],
      "metadata": {
        "colab": {
          "base_uri": "https://localhost:8080/"
        },
        "id": "9Ly4oJa9w7VA",
        "outputId": "d32df003-74e2-4f6f-c41a-98489fd658d8"
      },
      "execution_count": 10,
      "outputs": [
        {
          "output_type": "stream",
          "name": "stdout",
          "text": [
            "χ2 누적확률 계산 : p(X<=3) = 0.0656\n"
          ]
        }
      ]
    },
    {
      "cell_type": "markdown",
      "source": [
        "# 실습 7\n",
        "F분포 계산문제"
      ],
      "metadata": {
        "id": "VXPihpywxjYf"
      }
    },
    {
      "cell_type": "code",
      "source": [
        "f = 1.5\n",
        "df_num = 10\n",
        "df_den = 100\n",
        "\n",
        "prob = stats.f.cdf(f, df_num, df_den)\n",
        "print(\"P(X <= F): {:.3f}\".format(prob))"
      ],
      "metadata": {
        "colab": {
          "base_uri": "https://localhost:8080/"
        },
        "id": "pQDia8BJxi4t",
        "outputId": "87c79ad7-36fb-43e7-9923-82a3cccb2716"
      },
      "execution_count": 11,
      "outputs": [
        {
          "output_type": "stream",
          "name": "stdout",
          "text": [
            "P(X <= F): 0.850\n"
          ]
        }
      ]
    },
    {
      "cell_type": "markdown",
      "source": [
        "# 실습8\n",
        "이항분포 계산문제"
      ],
      "metadata": {
        "id": "JhHBQ6dEx5QX"
      }
    },
    {
      "cell_type": "code",
      "source": [
        "n = 5  # 5대의 차량\n",
        "p = 0.3 # 광택도 불량 30%\n",
        "\n",
        "for i in range(n+1) :\n",
        "    prob = stats.binom.pmf(k=i, n=n, p=p)\n",
        "    print(\"P(X={0}) = {1:.3f}\".format(i, prob))"
      ],
      "metadata": {
        "colab": {
          "base_uri": "https://localhost:8080/"
        },
        "id": "xU2_Qiv5x2pt",
        "outputId": "26abcfbe-0c4f-4803-c5f2-b3766219da7d"
      },
      "execution_count": 12,
      "outputs": [
        {
          "output_type": "stream",
          "name": "stdout",
          "text": [
            "P(X=0) = 0.168\n",
            "P(X=1) = 0.360\n",
            "P(X=2) = 0.309\n",
            "P(X=3) = 0.132\n",
            "P(X=4) = 0.028\n",
            "P(X=5) = 0.002\n"
          ]
        }
      ]
    },
    {
      "cell_type": "markdown",
      "source": [
        "# 실습9\n",
        "\n",
        "정규성 검정"
      ],
      "metadata": {
        "id": "9rloP2zR7O99"
      }
    },
    {
      "cell_type": "code",
      "source": [
        "# 데이터 불러오기\n",
        "df = pd.read_csv(\"2sample_t_test.csv\")\n",
        "df.head()\n"
      ],
      "metadata": {
        "colab": {
          "base_uri": "https://localhost:8080/",
          "height": 206
        },
        "id": "L_KICCv57UTm",
        "outputId": "980aada0-08b4-444e-f190-7e6fc52b5cc3"
      },
      "execution_count": 13,
      "outputs": [
        {
          "output_type": "execute_result",
          "data": {
            "text/plain": [
              "   Mat_A  Mat_B\n",
              "0   73.4   68.7\n",
              "1   77.0   71.4\n",
              "2   73.7   69.8\n",
              "3   73.3   75.3\n",
              "4   73.1   71.3"
            ],
            "text/html": [
              "\n",
              "  <div id=\"df-44a9bc99-ee5f-4b10-aa2b-7a068518026d\" class=\"colab-df-container\">\n",
              "    <div>\n",
              "<style scoped>\n",
              "    .dataframe tbody tr th:only-of-type {\n",
              "        vertical-align: middle;\n",
              "    }\n",
              "\n",
              "    .dataframe tbody tr th {\n",
              "        vertical-align: top;\n",
              "    }\n",
              "\n",
              "    .dataframe thead th {\n",
              "        text-align: right;\n",
              "    }\n",
              "</style>\n",
              "<table border=\"1\" class=\"dataframe\">\n",
              "  <thead>\n",
              "    <tr style=\"text-align: right;\">\n",
              "      <th></th>\n",
              "      <th>Mat_A</th>\n",
              "      <th>Mat_B</th>\n",
              "    </tr>\n",
              "  </thead>\n",
              "  <tbody>\n",
              "    <tr>\n",
              "      <th>0</th>\n",
              "      <td>73.4</td>\n",
              "      <td>68.7</td>\n",
              "    </tr>\n",
              "    <tr>\n",
              "      <th>1</th>\n",
              "      <td>77.0</td>\n",
              "      <td>71.4</td>\n",
              "    </tr>\n",
              "    <tr>\n",
              "      <th>2</th>\n",
              "      <td>73.7</td>\n",
              "      <td>69.8</td>\n",
              "    </tr>\n",
              "    <tr>\n",
              "      <th>3</th>\n",
              "      <td>73.3</td>\n",
              "      <td>75.3</td>\n",
              "    </tr>\n",
              "    <tr>\n",
              "      <th>4</th>\n",
              "      <td>73.1</td>\n",
              "      <td>71.3</td>\n",
              "    </tr>\n",
              "  </tbody>\n",
              "</table>\n",
              "</div>\n",
              "    <div class=\"colab-df-buttons\">\n",
              "\n",
              "  <div class=\"colab-df-container\">\n",
              "    <button class=\"colab-df-convert\" onclick=\"convertToInteractive('df-44a9bc99-ee5f-4b10-aa2b-7a068518026d')\"\n",
              "            title=\"Convert this dataframe to an interactive table.\"\n",
              "            style=\"display:none;\">\n",
              "\n",
              "  <svg xmlns=\"http://www.w3.org/2000/svg\" height=\"24px\" viewBox=\"0 -960 960 960\">\n",
              "    <path d=\"M120-120v-720h720v720H120Zm60-500h600v-160H180v160Zm220 220h160v-160H400v160Zm0 220h160v-160H400v160ZM180-400h160v-160H180v160Zm440 0h160v-160H620v160ZM180-180h160v-160H180v160Zm440 0h160v-160H620v160Z\"/>\n",
              "  </svg>\n",
              "    </button>\n",
              "\n",
              "  <style>\n",
              "    .colab-df-container {\n",
              "      display:flex;\n",
              "      gap: 12px;\n",
              "    }\n",
              "\n",
              "    .colab-df-convert {\n",
              "      background-color: #E8F0FE;\n",
              "      border: none;\n",
              "      border-radius: 50%;\n",
              "      cursor: pointer;\n",
              "      display: none;\n",
              "      fill: #1967D2;\n",
              "      height: 32px;\n",
              "      padding: 0 0 0 0;\n",
              "      width: 32px;\n",
              "    }\n",
              "\n",
              "    .colab-df-convert:hover {\n",
              "      background-color: #E2EBFA;\n",
              "      box-shadow: 0px 1px 2px rgba(60, 64, 67, 0.3), 0px 1px 3px 1px rgba(60, 64, 67, 0.15);\n",
              "      fill: #174EA6;\n",
              "    }\n",
              "\n",
              "    .colab-df-buttons div {\n",
              "      margin-bottom: 4px;\n",
              "    }\n",
              "\n",
              "    [theme=dark] .colab-df-convert {\n",
              "      background-color: #3B4455;\n",
              "      fill: #D2E3FC;\n",
              "    }\n",
              "\n",
              "    [theme=dark] .colab-df-convert:hover {\n",
              "      background-color: #434B5C;\n",
              "      box-shadow: 0px 1px 3px 1px rgba(0, 0, 0, 0.15);\n",
              "      filter: drop-shadow(0px 1px 2px rgba(0, 0, 0, 0.3));\n",
              "      fill: #FFFFFF;\n",
              "    }\n",
              "  </style>\n",
              "\n",
              "    <script>\n",
              "      const buttonEl =\n",
              "        document.querySelector('#df-44a9bc99-ee5f-4b10-aa2b-7a068518026d button.colab-df-convert');\n",
              "      buttonEl.style.display =\n",
              "        google.colab.kernel.accessAllowed ? 'block' : 'none';\n",
              "\n",
              "      async function convertToInteractive(key) {\n",
              "        const element = document.querySelector('#df-44a9bc99-ee5f-4b10-aa2b-7a068518026d');\n",
              "        const dataTable =\n",
              "          await google.colab.kernel.invokeFunction('convertToInteractive',\n",
              "                                                    [key], {});\n",
              "        if (!dataTable) return;\n",
              "\n",
              "        const docLinkHtml = 'Like what you see? Visit the ' +\n",
              "          '<a target=\"_blank\" href=https://colab.research.google.com/notebooks/data_table.ipynb>data table notebook</a>'\n",
              "          + ' to learn more about interactive tables.';\n",
              "        element.innerHTML = '';\n",
              "        dataTable['output_type'] = 'display_data';\n",
              "        await google.colab.output.renderOutput(dataTable, element);\n",
              "        const docLink = document.createElement('div');\n",
              "        docLink.innerHTML = docLinkHtml;\n",
              "        element.appendChild(docLink);\n",
              "      }\n",
              "    </script>\n",
              "  </div>\n",
              "\n",
              "\n",
              "<div id=\"df-020f7fd3-edf2-4181-8fbe-c34e35b3246b\">\n",
              "  <button class=\"colab-df-quickchart\" onclick=\"quickchart('df-020f7fd3-edf2-4181-8fbe-c34e35b3246b')\"\n",
              "            title=\"Suggest charts\"\n",
              "            style=\"display:none;\">\n",
              "\n",
              "<svg xmlns=\"http://www.w3.org/2000/svg\" height=\"24px\"viewBox=\"0 0 24 24\"\n",
              "     width=\"24px\">\n",
              "    <g>\n",
              "        <path d=\"M19 3H5c-1.1 0-2 .9-2 2v14c0 1.1.9 2 2 2h14c1.1 0 2-.9 2-2V5c0-1.1-.9-2-2-2zM9 17H7v-7h2v7zm4 0h-2V7h2v10zm4 0h-2v-4h2v4z\"/>\n",
              "    </g>\n",
              "</svg>\n",
              "  </button>\n",
              "\n",
              "<style>\n",
              "  .colab-df-quickchart {\n",
              "      --bg-color: #E8F0FE;\n",
              "      --fill-color: #1967D2;\n",
              "      --hover-bg-color: #E2EBFA;\n",
              "      --hover-fill-color: #174EA6;\n",
              "      --disabled-fill-color: #AAA;\n",
              "      --disabled-bg-color: #DDD;\n",
              "  }\n",
              "\n",
              "  [theme=dark] .colab-df-quickchart {\n",
              "      --bg-color: #3B4455;\n",
              "      --fill-color: #D2E3FC;\n",
              "      --hover-bg-color: #434B5C;\n",
              "      --hover-fill-color: #FFFFFF;\n",
              "      --disabled-bg-color: #3B4455;\n",
              "      --disabled-fill-color: #666;\n",
              "  }\n",
              "\n",
              "  .colab-df-quickchart {\n",
              "    background-color: var(--bg-color);\n",
              "    border: none;\n",
              "    border-radius: 50%;\n",
              "    cursor: pointer;\n",
              "    display: none;\n",
              "    fill: var(--fill-color);\n",
              "    height: 32px;\n",
              "    padding: 0;\n",
              "    width: 32px;\n",
              "  }\n",
              "\n",
              "  .colab-df-quickchart:hover {\n",
              "    background-color: var(--hover-bg-color);\n",
              "    box-shadow: 0 1px 2px rgba(60, 64, 67, 0.3), 0 1px 3px 1px rgba(60, 64, 67, 0.15);\n",
              "    fill: var(--button-hover-fill-color);\n",
              "  }\n",
              "\n",
              "  .colab-df-quickchart-complete:disabled,\n",
              "  .colab-df-quickchart-complete:disabled:hover {\n",
              "    background-color: var(--disabled-bg-color);\n",
              "    fill: var(--disabled-fill-color);\n",
              "    box-shadow: none;\n",
              "  }\n",
              "\n",
              "  .colab-df-spinner {\n",
              "    border: 2px solid var(--fill-color);\n",
              "    border-color: transparent;\n",
              "    border-bottom-color: var(--fill-color);\n",
              "    animation:\n",
              "      spin 1s steps(1) infinite;\n",
              "  }\n",
              "\n",
              "  @keyframes spin {\n",
              "    0% {\n",
              "      border-color: transparent;\n",
              "      border-bottom-color: var(--fill-color);\n",
              "      border-left-color: var(--fill-color);\n",
              "    }\n",
              "    20% {\n",
              "      border-color: transparent;\n",
              "      border-left-color: var(--fill-color);\n",
              "      border-top-color: var(--fill-color);\n",
              "    }\n",
              "    30% {\n",
              "      border-color: transparent;\n",
              "      border-left-color: var(--fill-color);\n",
              "      border-top-color: var(--fill-color);\n",
              "      border-right-color: var(--fill-color);\n",
              "    }\n",
              "    40% {\n",
              "      border-color: transparent;\n",
              "      border-right-color: var(--fill-color);\n",
              "      border-top-color: var(--fill-color);\n",
              "    }\n",
              "    60% {\n",
              "      border-color: transparent;\n",
              "      border-right-color: var(--fill-color);\n",
              "    }\n",
              "    80% {\n",
              "      border-color: transparent;\n",
              "      border-right-color: var(--fill-color);\n",
              "      border-bottom-color: var(--fill-color);\n",
              "    }\n",
              "    90% {\n",
              "      border-color: transparent;\n",
              "      border-bottom-color: var(--fill-color);\n",
              "    }\n",
              "  }\n",
              "</style>\n",
              "\n",
              "  <script>\n",
              "    async function quickchart(key) {\n",
              "      const quickchartButtonEl =\n",
              "        document.querySelector('#' + key + ' button');\n",
              "      quickchartButtonEl.disabled = true;  // To prevent multiple clicks.\n",
              "      quickchartButtonEl.classList.add('colab-df-spinner');\n",
              "      try {\n",
              "        const charts = await google.colab.kernel.invokeFunction(\n",
              "            'suggestCharts', [key], {});\n",
              "      } catch (error) {\n",
              "        console.error('Error during call to suggestCharts:', error);\n",
              "      }\n",
              "      quickchartButtonEl.classList.remove('colab-df-spinner');\n",
              "      quickchartButtonEl.classList.add('colab-df-quickchart-complete');\n",
              "    }\n",
              "    (() => {\n",
              "      let quickchartButtonEl =\n",
              "        document.querySelector('#df-020f7fd3-edf2-4181-8fbe-c34e35b3246b button');\n",
              "      quickchartButtonEl.style.display =\n",
              "        google.colab.kernel.accessAllowed ? 'block' : 'none';\n",
              "    })();\n",
              "  </script>\n",
              "</div>\n",
              "    </div>\n",
              "  </div>\n"
            ],
            "application/vnd.google.colaboratory.intrinsic+json": {
              "type": "dataframe",
              "variable_name": "df",
              "summary": "{\n  \"name\": \"df\",\n  \"rows\": 10,\n  \"fields\": [\n    {\n      \"column\": \"Mat_A\",\n      \"properties\": {\n        \"dtype\": \"number\",\n        \"std\": 2.170227842621344,\n        \"min\": 71.5,\n        \"max\": 77.7,\n        \"num_unique_values\": 10,\n        \"samples\": [\n          76.4,\n          77.0,\n          71.5\n        ],\n        \"semantic_type\": \"\",\n        \"description\": \"\"\n      }\n    },\n    {\n      \"column\": \"Mat_B\",\n      \"properties\": {\n        \"dtype\": \"number\",\n        \"std\": 2.5411283582954503,\n        \"min\": 66.9,\n        \"max\": 75.3,\n        \"num_unique_values\": 10,\n        \"samples\": [\n          74.4,\n          71.4,\n          72.7\n        ],\n        \"semantic_type\": \"\",\n        \"description\": \"\"\n      }\n    }\n  ]\n}"
            }
          },
          "metadata": {},
          "execution_count": 13
        }
      ]
    },
    {
      "cell_type": "code",
      "source": [
        "# 정규성 검정 : Shapiro-Wilk Test\n",
        "statistic, p = stats.shapiro(df['Mat_A'])\n",
        "\n",
        "print(\"Shapiro-Wilk Test: statistic={}, p-value={}\".format(statistic, p))"
      ],
      "metadata": {
        "colab": {
          "base_uri": "https://localhost:8080/"
        },
        "id": "9gmsCR_r7f7U",
        "outputId": "0817216e-e31f-4857-9792-194e3182705d"
      },
      "execution_count": 14,
      "outputs": [
        {
          "output_type": "stream",
          "name": "stdout",
          "text": [
            "Shapiro-Wilk Test: statistic=0.906264066696167, p-value=0.2563020884990692\n"
          ]
        }
      ]
    },
    {
      "cell_type": "markdown",
      "source": [
        "변수 Mat_A p값이 0.05보다 크므로 정규분포를 따른다고 할 수 있다"
      ],
      "metadata": {
        "id": "xGiFZgWv7vUk"
      }
    },
    {
      "cell_type": "code",
      "source": [
        "# 정규성 검정 : Shapiro-Wilk Test\n",
        "statistic, p = stats.shapiro(df['Mat_B'])\n",
        "\n",
        "print(\"Shapiro-Wilk Test: statistic={}, p-value={}\".format(statistic, p))"
      ],
      "metadata": {
        "colab": {
          "base_uri": "https://localhost:8080/"
        },
        "id": "pToqLQxw7uop",
        "outputId": "d1e7c7a4-4ffe-489d-c067-c9b747676412"
      },
      "execution_count": 15,
      "outputs": [
        {
          "output_type": "stream",
          "name": "stdout",
          "text": [
            "Shapiro-Wilk Test: statistic=0.9729753732681274, p-value=0.9169775247573853\n"
          ]
        }
      ]
    },
    {
      "cell_type": "markdown",
      "source": [
        "변수 Mat_B p값이 0.05보다 크므로 정규분포를 따른다고 할 수 있다"
      ],
      "metadata": {
        "id": "4oLnVHgU77T5"
      }
    },
    {
      "cell_type": "markdown",
      "source": [
        "# 실습9\n",
        "모평균 구간추정"
      ],
      "metadata": {
        "id": "rrb6rRPn8Rwz"
      }
    },
    {
      "cell_type": "code",
      "source": [
        "df = pd.DataFrame({\"sample\" : [18,18,20,21,20,23,19,18,17,21,22,20,20,21,20,19,19,18,17,19]})\n",
        "\n",
        "lower, upper = stats.norm.interval(0.95, loc = np.mean(df), scale = 3.8/np.sqrt(20))\n",
        "print(\"신뢰구간: ({0}, {1})\" .format(lower.round(2), upper.round(2)))"
      ],
      "metadata": {
        "colab": {
          "base_uri": "https://localhost:8080/"
        },
        "id": "2DvG-HB47tij",
        "outputId": "cb568cb9-14a8-433e-9645-8c2ada9c94a6"
      },
      "execution_count": 16,
      "outputs": [
        {
          "output_type": "stream",
          "name": "stdout",
          "text": [
            "신뢰구간: ([17.83], [21.17])\n"
          ]
        }
      ]
    },
    {
      "cell_type": "markdown",
      "source": [
        "# 실습 10\n",
        "모평균 신뢰구간 추정  - 모표준편차를 모르는 경우"
      ],
      "metadata": {
        "id": "vMeHUDI98kyI"
      }
    },
    {
      "cell_type": "code",
      "source": [
        "df = pd.DataFrame({\"sample\" : [73,71,74,69,70,73,70,68,75,72,70,72,73,70,70,72,71,70,75,72]})\n",
        "\n",
        "lower, upper = stats.t.interval(0.95, len(df)-1, loc = np.mean(df), scale = stats.sem(df))\n",
        "print(\"신뢰구간: ({0}, {1})\" .format(lower.round(2), upper.round(2)))"
      ],
      "metadata": {
        "colab": {
          "base_uri": "https://localhost:8080/"
        },
        "id": "8BS46k-J9Fmk",
        "outputId": "9d715717-d8c6-4758-d82d-5e3495d864b6"
      },
      "execution_count": 17,
      "outputs": [
        {
          "output_type": "stream",
          "name": "stdout",
          "text": [
            "신뢰구간: ([70.6], [72.4])\n"
          ]
        }
      ]
    },
    {
      "cell_type": "markdown",
      "source": [
        "모표준편차를 모르는 경우에는 t분포를 사용한다.\n"
      ],
      "metadata": {
        "id": "EnvS7E35-YwM"
      }
    },
    {
      "cell_type": "markdown",
      "source": [
        "# 실습 11\n",
        "\n",
        "1-Sample-t-test"
      ],
      "metadata": {
        "id": "t6ToL7Zf-chX"
      }
    },
    {
      "cell_type": "markdown",
      "source": [
        "고객서비스센터의 고객만족도 평균은 78이었다. <br>\n",
        "개선활동을 환료한 후 다음과 같은 10개의 고객만족도 데이터를 얻었다. <br>\n",
        "개선활동이 만족도를 변화시켰는가? <br>\n",
        "귀무가설 : 개선활동이 만족도를 변화시키지 않았다.<br>\n",
        "대립가설 : 개선활동이 만족도를 변화시켰다.<br>\n",
        "양측검정을 통해서 가설검정을 할 수 있다.<br>\n",
        "모표준편차를 모르기에 t분포를 사용해야한다.\n"
      ],
      "metadata": {
        "id": "QImVicw5A6Fd"
      }
    },
    {
      "cell_type": "code",
      "source": [
        "df = pd.DataFrame({\"sample\" : [85.0,79.0,79.1,79.9,81.6,78.6,85.4,83.4,78.1,79.2]})\n",
        "df"
      ],
      "metadata": {
        "colab": {
          "base_uri": "https://localhost:8080/",
          "height": 363
        },
        "id": "1YHXEGBK-JsW",
        "outputId": "d1a55221-0b65-4712-fa60-ab09801f913a"
      },
      "execution_count": 18,
      "outputs": [
        {
          "output_type": "execute_result",
          "data": {
            "text/plain": [
              "   sample\n",
              "0    85.0\n",
              "1    79.0\n",
              "2    79.1\n",
              "3    79.9\n",
              "4    81.6\n",
              "5    78.6\n",
              "6    85.4\n",
              "7    83.4\n",
              "8    78.1\n",
              "9    79.2"
            ],
            "text/html": [
              "\n",
              "  <div id=\"df-e4a3ffdd-135d-403b-b40c-a8ab4a5fa0b7\" class=\"colab-df-container\">\n",
              "    <div>\n",
              "<style scoped>\n",
              "    .dataframe tbody tr th:only-of-type {\n",
              "        vertical-align: middle;\n",
              "    }\n",
              "\n",
              "    .dataframe tbody tr th {\n",
              "        vertical-align: top;\n",
              "    }\n",
              "\n",
              "    .dataframe thead th {\n",
              "        text-align: right;\n",
              "    }\n",
              "</style>\n",
              "<table border=\"1\" class=\"dataframe\">\n",
              "  <thead>\n",
              "    <tr style=\"text-align: right;\">\n",
              "      <th></th>\n",
              "      <th>sample</th>\n",
              "    </tr>\n",
              "  </thead>\n",
              "  <tbody>\n",
              "    <tr>\n",
              "      <th>0</th>\n",
              "      <td>85.0</td>\n",
              "    </tr>\n",
              "    <tr>\n",
              "      <th>1</th>\n",
              "      <td>79.0</td>\n",
              "    </tr>\n",
              "    <tr>\n",
              "      <th>2</th>\n",
              "      <td>79.1</td>\n",
              "    </tr>\n",
              "    <tr>\n",
              "      <th>3</th>\n",
              "      <td>79.9</td>\n",
              "    </tr>\n",
              "    <tr>\n",
              "      <th>4</th>\n",
              "      <td>81.6</td>\n",
              "    </tr>\n",
              "    <tr>\n",
              "      <th>5</th>\n",
              "      <td>78.6</td>\n",
              "    </tr>\n",
              "    <tr>\n",
              "      <th>6</th>\n",
              "      <td>85.4</td>\n",
              "    </tr>\n",
              "    <tr>\n",
              "      <th>7</th>\n",
              "      <td>83.4</td>\n",
              "    </tr>\n",
              "    <tr>\n",
              "      <th>8</th>\n",
              "      <td>78.1</td>\n",
              "    </tr>\n",
              "    <tr>\n",
              "      <th>9</th>\n",
              "      <td>79.2</td>\n",
              "    </tr>\n",
              "  </tbody>\n",
              "</table>\n",
              "</div>\n",
              "    <div class=\"colab-df-buttons\">\n",
              "\n",
              "  <div class=\"colab-df-container\">\n",
              "    <button class=\"colab-df-convert\" onclick=\"convertToInteractive('df-e4a3ffdd-135d-403b-b40c-a8ab4a5fa0b7')\"\n",
              "            title=\"Convert this dataframe to an interactive table.\"\n",
              "            style=\"display:none;\">\n",
              "\n",
              "  <svg xmlns=\"http://www.w3.org/2000/svg\" height=\"24px\" viewBox=\"0 -960 960 960\">\n",
              "    <path d=\"M120-120v-720h720v720H120Zm60-500h600v-160H180v160Zm220 220h160v-160H400v160Zm0 220h160v-160H400v160ZM180-400h160v-160H180v160Zm440 0h160v-160H620v160ZM180-180h160v-160H180v160Zm440 0h160v-160H620v160Z\"/>\n",
              "  </svg>\n",
              "    </button>\n",
              "\n",
              "  <style>\n",
              "    .colab-df-container {\n",
              "      display:flex;\n",
              "      gap: 12px;\n",
              "    }\n",
              "\n",
              "    .colab-df-convert {\n",
              "      background-color: #E8F0FE;\n",
              "      border: none;\n",
              "      border-radius: 50%;\n",
              "      cursor: pointer;\n",
              "      display: none;\n",
              "      fill: #1967D2;\n",
              "      height: 32px;\n",
              "      padding: 0 0 0 0;\n",
              "      width: 32px;\n",
              "    }\n",
              "\n",
              "    .colab-df-convert:hover {\n",
              "      background-color: #E2EBFA;\n",
              "      box-shadow: 0px 1px 2px rgba(60, 64, 67, 0.3), 0px 1px 3px 1px rgba(60, 64, 67, 0.15);\n",
              "      fill: #174EA6;\n",
              "    }\n",
              "\n",
              "    .colab-df-buttons div {\n",
              "      margin-bottom: 4px;\n",
              "    }\n",
              "\n",
              "    [theme=dark] .colab-df-convert {\n",
              "      background-color: #3B4455;\n",
              "      fill: #D2E3FC;\n",
              "    }\n",
              "\n",
              "    [theme=dark] .colab-df-convert:hover {\n",
              "      background-color: #434B5C;\n",
              "      box-shadow: 0px 1px 3px 1px rgba(0, 0, 0, 0.15);\n",
              "      filter: drop-shadow(0px 1px 2px rgba(0, 0, 0, 0.3));\n",
              "      fill: #FFFFFF;\n",
              "    }\n",
              "  </style>\n",
              "\n",
              "    <script>\n",
              "      const buttonEl =\n",
              "        document.querySelector('#df-e4a3ffdd-135d-403b-b40c-a8ab4a5fa0b7 button.colab-df-convert');\n",
              "      buttonEl.style.display =\n",
              "        google.colab.kernel.accessAllowed ? 'block' : 'none';\n",
              "\n",
              "      async function convertToInteractive(key) {\n",
              "        const element = document.querySelector('#df-e4a3ffdd-135d-403b-b40c-a8ab4a5fa0b7');\n",
              "        const dataTable =\n",
              "          await google.colab.kernel.invokeFunction('convertToInteractive',\n",
              "                                                    [key], {});\n",
              "        if (!dataTable) return;\n",
              "\n",
              "        const docLinkHtml = 'Like what you see? Visit the ' +\n",
              "          '<a target=\"_blank\" href=https://colab.research.google.com/notebooks/data_table.ipynb>data table notebook</a>'\n",
              "          + ' to learn more about interactive tables.';\n",
              "        element.innerHTML = '';\n",
              "        dataTable['output_type'] = 'display_data';\n",
              "        await google.colab.output.renderOutput(dataTable, element);\n",
              "        const docLink = document.createElement('div');\n",
              "        docLink.innerHTML = docLinkHtml;\n",
              "        element.appendChild(docLink);\n",
              "      }\n",
              "    </script>\n",
              "  </div>\n",
              "\n",
              "\n",
              "<div id=\"df-8095844e-c273-4221-ad2f-334f26a289d3\">\n",
              "  <button class=\"colab-df-quickchart\" onclick=\"quickchart('df-8095844e-c273-4221-ad2f-334f26a289d3')\"\n",
              "            title=\"Suggest charts\"\n",
              "            style=\"display:none;\">\n",
              "\n",
              "<svg xmlns=\"http://www.w3.org/2000/svg\" height=\"24px\"viewBox=\"0 0 24 24\"\n",
              "     width=\"24px\">\n",
              "    <g>\n",
              "        <path d=\"M19 3H5c-1.1 0-2 .9-2 2v14c0 1.1.9 2 2 2h14c1.1 0 2-.9 2-2V5c0-1.1-.9-2-2-2zM9 17H7v-7h2v7zm4 0h-2V7h2v10zm4 0h-2v-4h2v4z\"/>\n",
              "    </g>\n",
              "</svg>\n",
              "  </button>\n",
              "\n",
              "<style>\n",
              "  .colab-df-quickchart {\n",
              "      --bg-color: #E8F0FE;\n",
              "      --fill-color: #1967D2;\n",
              "      --hover-bg-color: #E2EBFA;\n",
              "      --hover-fill-color: #174EA6;\n",
              "      --disabled-fill-color: #AAA;\n",
              "      --disabled-bg-color: #DDD;\n",
              "  }\n",
              "\n",
              "  [theme=dark] .colab-df-quickchart {\n",
              "      --bg-color: #3B4455;\n",
              "      --fill-color: #D2E3FC;\n",
              "      --hover-bg-color: #434B5C;\n",
              "      --hover-fill-color: #FFFFFF;\n",
              "      --disabled-bg-color: #3B4455;\n",
              "      --disabled-fill-color: #666;\n",
              "  }\n",
              "\n",
              "  .colab-df-quickchart {\n",
              "    background-color: var(--bg-color);\n",
              "    border: none;\n",
              "    border-radius: 50%;\n",
              "    cursor: pointer;\n",
              "    display: none;\n",
              "    fill: var(--fill-color);\n",
              "    height: 32px;\n",
              "    padding: 0;\n",
              "    width: 32px;\n",
              "  }\n",
              "\n",
              "  .colab-df-quickchart:hover {\n",
              "    background-color: var(--hover-bg-color);\n",
              "    box-shadow: 0 1px 2px rgba(60, 64, 67, 0.3), 0 1px 3px 1px rgba(60, 64, 67, 0.15);\n",
              "    fill: var(--button-hover-fill-color);\n",
              "  }\n",
              "\n",
              "  .colab-df-quickchart-complete:disabled,\n",
              "  .colab-df-quickchart-complete:disabled:hover {\n",
              "    background-color: var(--disabled-bg-color);\n",
              "    fill: var(--disabled-fill-color);\n",
              "    box-shadow: none;\n",
              "  }\n",
              "\n",
              "  .colab-df-spinner {\n",
              "    border: 2px solid var(--fill-color);\n",
              "    border-color: transparent;\n",
              "    border-bottom-color: var(--fill-color);\n",
              "    animation:\n",
              "      spin 1s steps(1) infinite;\n",
              "  }\n",
              "\n",
              "  @keyframes spin {\n",
              "    0% {\n",
              "      border-color: transparent;\n",
              "      border-bottom-color: var(--fill-color);\n",
              "      border-left-color: var(--fill-color);\n",
              "    }\n",
              "    20% {\n",
              "      border-color: transparent;\n",
              "      border-left-color: var(--fill-color);\n",
              "      border-top-color: var(--fill-color);\n",
              "    }\n",
              "    30% {\n",
              "      border-color: transparent;\n",
              "      border-left-color: var(--fill-color);\n",
              "      border-top-color: var(--fill-color);\n",
              "      border-right-color: var(--fill-color);\n",
              "    }\n",
              "    40% {\n",
              "      border-color: transparent;\n",
              "      border-right-color: var(--fill-color);\n",
              "      border-top-color: var(--fill-color);\n",
              "    }\n",
              "    60% {\n",
              "      border-color: transparent;\n",
              "      border-right-color: var(--fill-color);\n",
              "    }\n",
              "    80% {\n",
              "      border-color: transparent;\n",
              "      border-right-color: var(--fill-color);\n",
              "      border-bottom-color: var(--fill-color);\n",
              "    }\n",
              "    90% {\n",
              "      border-color: transparent;\n",
              "      border-bottom-color: var(--fill-color);\n",
              "    }\n",
              "  }\n",
              "</style>\n",
              "\n",
              "  <script>\n",
              "    async function quickchart(key) {\n",
              "      const quickchartButtonEl =\n",
              "        document.querySelector('#' + key + ' button');\n",
              "      quickchartButtonEl.disabled = true;  // To prevent multiple clicks.\n",
              "      quickchartButtonEl.classList.add('colab-df-spinner');\n",
              "      try {\n",
              "        const charts = await google.colab.kernel.invokeFunction(\n",
              "            'suggestCharts', [key], {});\n",
              "      } catch (error) {\n",
              "        console.error('Error during call to suggestCharts:', error);\n",
              "      }\n",
              "      quickchartButtonEl.classList.remove('colab-df-spinner');\n",
              "      quickchartButtonEl.classList.add('colab-df-quickchart-complete');\n",
              "    }\n",
              "    (() => {\n",
              "      let quickchartButtonEl =\n",
              "        document.querySelector('#df-8095844e-c273-4221-ad2f-334f26a289d3 button');\n",
              "      quickchartButtonEl.style.display =\n",
              "        google.colab.kernel.accessAllowed ? 'block' : 'none';\n",
              "    })();\n",
              "  </script>\n",
              "</div>\n",
              "    </div>\n",
              "  </div>\n"
            ],
            "application/vnd.google.colaboratory.intrinsic+json": {
              "type": "dataframe",
              "variable_name": "df",
              "summary": "{\n  \"name\": \"df\",\n  \"rows\": 10,\n  \"fields\": [\n    {\n      \"column\": \"sample\",\n      \"properties\": {\n        \"dtype\": \"number\",\n        \"std\": 2.7418768916362573,\n        \"min\": 78.1,\n        \"max\": 85.4,\n        \"num_unique_values\": 10,\n        \"samples\": [\n          78.1,\n          79.0,\n          78.6\n        ],\n        \"semantic_type\": \"\",\n        \"description\": \"\"\n      }\n    }\n  ]\n}"
            }
          },
          "metadata": {},
          "execution_count": 18
        }
      ]
    },
    {
      "cell_type": "code",
      "source": [
        "df.boxplot()"
      ],
      "metadata": {
        "colab": {
          "base_uri": "https://localhost:8080/",
          "height": 449
        },
        "id": "bBIxLAhQCFzY",
        "outputId": "4bada033-7058-4cb3-bf35-c32abe052b27"
      },
      "execution_count": 19,
      "outputs": [
        {
          "output_type": "execute_result",
          "data": {
            "text/plain": [
              "<Axes: >"
            ]
          },
          "metadata": {},
          "execution_count": 19
        },
        {
          "output_type": "display_data",
          "data": {
            "text/plain": [
              "<Figure size 640x480 with 1 Axes>"
            ],
            "image/png": "[encoded data removed]"
          },
          "metadata": {}
        }
      ]
    },
    {
      "cell_type": "code",
      "source": [
        "# 정규성 검정\n",
        "statistic, p = stats.shapiro(df['sample'])\n",
        "print(\"statistic={}, p-value={}\".format(statistic,p))"
      ],
      "metadata": {
        "colab": {
          "base_uri": "https://localhost:8080/"
        },
        "id": "pBhBQXbdCK5U",
        "outputId": "603d2cbb-f5ef-4ab1-b092-6a704a15817b"
      },
      "execution_count": 21,
      "outputs": [
        {
          "output_type": "stream",
          "name": "stdout",
          "text": [
            "statistic=0.8473217487335205, p-value=0.0539751797914505\n"
          ]
        }
      ]
    },
    {
      "cell_type": "markdown",
      "source": [
        "p값이 0.05보다 크므로 정규성을 만족한다."
      ],
      "metadata": {
        "id": "ebINh5LJDFzx"
      }
    },
    {
      "cell_type": "code",
      "source": [
        "# 1-sample t - test t값 p값 출력\n",
        "t_result = stats.ttest_1samp(df, 78)\n",
        "t, p = t_result.statistic.round(3), \\\n",
        "       t_result.pvalue.round(3)\n",
        "\n",
        "print( \"1-Sample t-test \")\n",
        "print( \" t 통계량 : {} \" .format(t))\n",
        "print( \" p-value : {} \" .format(p))"
      ],
      "metadata": {
        "colab": {
          "base_uri": "https://localhost:8080/"
        },
        "id": "aFZFf_dmDFMU",
        "outputId": "b3cc66c8-d212-4ad9-fc6c-9b3a46c13a58"
      },
      "execution_count": 23,
      "outputs": [
        {
          "output_type": "stream",
          "name": "stdout",
          "text": [
            "1-Sample t-test \n",
            " t 통계량 : [3.379] \n",
            " p-value : [0.008] \n"
          ]
        }
      ]
    },
    {
      "cell_type": "markdown",
      "source": [
        "유의수준 0.05에서 p값이 0.05보다 작으므로 대립가설을 채택한다.\n",
        "\n",
        "---\n",
        "결론 : 개선활동이 만족도를 변화시켰다고 할 수 있다. <br>\n",
        "또한, 검정통계량 값이 양수이므로 개선활동이 만족도를 향상시켰다고 할 수 있다.\n",
        "\n"
      ],
      "metadata": {
        "id": "Sfik_7uqDxIP"
      }
    },
    {
      "cell_type": "markdown",
      "source": [
        "# 실습 12\n",
        "\n",
        "2 - sample t-test\n"
      ],
      "metadata": {
        "id": "wJF5pWsuJHTJ"
      }
    },
    {
      "cell_type": "markdown",
      "source": [
        "제품을 A공급자가 B공급자로 부터 제품을 받아 두께를 측정해서 다음의 데이터를 얻었다. <br>\n",
        "공급자 간에 모평균에 차이가 있다고 할 수 있는가? <br>\n",
        "귀무가설 : 공급자 간에 모평균에 차이가 있다고 할 수 없다.<br>\n",
        "대립가설 : 공급자 간에 모평균에 차이가 있다고 할 수 있다. <br>\n",
        "두 집단이 정규집단인지, 모분산이 알려져 있는지에 따라 검정방법이 다르므로 둘다 확인을 해봐야한다."
      ],
      "metadata": {
        "id": "C0DJcnBoJz2_"
      }
    },
    {
      "cell_type": "code",
      "source": [
        "df = pd.DataFrame({'A': [1.883,1.715,1.799,1.768,1.711,1.832,1.427,1.344],\n",
        "                   'B': [1.435,1.572,1.486,1.511,1.457,1.548,1.404,1.800]})\n",
        "df.head()"
      ],
      "metadata": {
        "colab": {
          "base_uri": "https://localhost:8080/",
          "height": 206
        },
        "id": "1SLBIDk4C_UC",
        "outputId": "602c17e6-f4ad-45c3-a0d7-cda94c8766f8"
      },
      "execution_count": 24,
      "outputs": [
        {
          "output_type": "execute_result",
          "data": {
            "text/plain": [
              "       A      B\n",
              "0  1.883  1.435\n",
              "1  1.715  1.572\n",
              "2  1.799  1.486\n",
              "3  1.768  1.511\n",
              "4  1.711  1.457"
            ],
            "text/html": [
              "\n",
              "  <div id=\"df-33750a57-ab29-48c7-84ac-68f259b4b2e6\" class=\"colab-df-container\">\n",
              "    <div>\n",
              "<style scoped>\n",
              "    .dataframe tbody tr th:only-of-type {\n",
              "        vertical-align: middle;\n",
              "    }\n",
              "\n",
              "    .dataframe tbody tr th {\n",
              "        vertical-align: top;\n",
              "    }\n",
              "\n",
              "    .dataframe thead th {\n",
              "        text-align: right;\n",
              "    }\n",
              "</style>\n",
              "<table border=\"1\" class=\"dataframe\">\n",
              "  <thead>\n",
              "    <tr style=\"text-align: right;\">\n",
              "      <th></th>\n",
              "      <th>A</th>\n",
              "      <th>B</th>\n",
              "    </tr>\n",
              "  </thead>\n",
              "  <tbody>\n",
              "    <tr>\n",
              "      <th>0</th>\n",
              "      <td>1.883</td>\n",
              "      <td>1.435</td>\n",
              "    </tr>\n",
              "    <tr>\n",
              "      <th>1</th>\n",
              "      <td>1.715</td>\n",
              "      <td>1.572</td>\n",
              "    </tr>\n",
              "    <tr>\n",
              "      <th>2</th>\n",
              "      <td>1.799</td>\n",
              "      <td>1.486</td>\n",
              "    </tr>\n",
              "    <tr>\n",
              "      <th>3</th>\n",
              "      <td>1.768</td>\n",
              "      <td>1.511</td>\n",
              "    </tr>\n",
              "    <tr>\n",
              "      <th>4</th>\n",
              "      <td>1.711</td>\n",
              "      <td>1.457</td>\n",
              "    </tr>\n",
              "  </tbody>\n",
              "</table>\n",
              "</div>\n",
              "    <div class=\"colab-df-buttons\">\n",
              "\n",
              "  <div class=\"colab-df-container\">\n",
              "    <button class=\"colab-df-convert\" onclick=\"convertToInteractive('df-33750a57-ab29-48c7-84ac-68f259b4b2e6')\"\n",
              "            title=\"Convert this dataframe to an interactive table.\"\n",
              "            style=\"display:none;\">\n",
              "\n",
              "  <svg xmlns=\"http://www.w3.org/2000/svg\" height=\"24px\" viewBox=\"0 -960 960 960\">\n",
              "    <path d=\"M120-120v-720h720v720H120Zm60-500h600v-160H180v160Zm220 220h160v-160H400v160Zm0 220h160v-160H400v160ZM180-400h160v-160H180v160Zm440 0h160v-160H620v160ZM180-180h160v-160H180v160Zm440 0h160v-160H620v160Z\"/>\n",
              "  </svg>\n",
              "    </button>\n",
              "\n",
              "  <style>\n",
              "    .colab-df-container {\n",
              "      display:flex;\n",
              "      gap: 12px;\n",
              "    }\n",
              "\n",
              "    .colab-df-convert {\n",
              "      background-color: #E8F0FE;\n",
              "      border: none;\n",
              "      border-radius: 50%;\n",
              "      cursor: pointer;\n",
              "      display: none;\n",
              "      fill: #1967D2;\n",
              "      height: 32px;\n",
              "      padding: 0 0 0 0;\n",
              "      width: 32px;\n",
              "    }\n",
              "\n",
              "    .colab-df-convert:hover {\n",
              "      background-color: #E2EBFA;\n",
              "      box-shadow: 0px 1px 2px rgba(60, 64, 67, 0.3), 0px 1px 3px 1px rgba(60, 64, 67, 0.15);\n",
              "      fill: #174EA6;\n",
              "    }\n",
              "\n",
              "    .colab-df-buttons div {\n",
              "      margin-bottom: 4px;\n",
              "    }\n",
              "\n",
              "    [theme=dark] .colab-df-convert {\n",
              "      background-color: #3B4455;\n",
              "      fill: #D2E3FC;\n",
              "    }\n",
              "\n",
              "    [theme=dark] .colab-df-convert:hover {\n",
              "      background-color: #434B5C;\n",
              "      box-shadow: 0px 1px 3px 1px rgba(0, 0, 0, 0.15);\n",
              "      filter: drop-shadow(0px 1px 2px rgba(0, 0, 0, 0.3));\n",
              "      fill: #FFFFFF;\n",
              "    }\n",
              "  </style>\n",
              "\n",
              "    <script>\n",
              "      const buttonEl =\n",
              "        document.querySelector('#df-33750a57-ab29-48c7-84ac-68f259b4b2e6 button.colab-df-convert');\n",
              "      buttonEl.style.display =\n",
              "        google.colab.kernel.accessAllowed ? 'block' : 'none';\n",
              "\n",
              "      async function convertToInteractive(key) {\n",
              "        const element = document.querySelector('#df-33750a57-ab29-48c7-84ac-68f259b4b2e6');\n",
              "        const dataTable =\n",
              "          await google.colab.kernel.invokeFunction('convertToInteractive',\n",
              "                                                    [key], {});\n",
              "        if (!dataTable) return;\n",
              "\n",
              "        const docLinkHtml = 'Like what you see? Visit the ' +\n",
              "          '<a target=\"_blank\" href=https://colab.research.google.com/notebooks/data_table.ipynb>data table notebook</a>'\n",
              "          + ' to learn more about interactive tables.';\n",
              "        element.innerHTML = '';\n",
              "        dataTable['output_type'] = 'display_data';\n",
              "        await google.colab.output.renderOutput(dataTable, element);\n",
              "        const docLink = document.createElement('div');\n",
              "        docLink.innerHTML = docLinkHtml;\n",
              "        element.appendChild(docLink);\n",
              "      }\n",
              "    </script>\n",
              "  </div>\n",
              "\n",
              "\n",
              "<div id=\"df-2dce9344-fa29-437a-b67d-b9dd03f8af80\">\n",
              "  <button class=\"colab-df-quickchart\" onclick=\"quickchart('df-2dce9344-fa29-437a-b67d-b9dd03f8af80')\"\n",
              "            title=\"Suggest charts\"\n",
              "            style=\"display:none;\">\n",
              "\n",
              "<svg xmlns=\"http://www.w3.org/2000/svg\" height=\"24px\"viewBox=\"0 0 24 24\"\n",
              "     width=\"24px\">\n",
              "    <g>\n",
              "        <path d=\"M19 3H5c-1.1 0-2 .9-2 2v14c0 1.1.9 2 2 2h14c1.1 0 2-.9 2-2V5c0-1.1-.9-2-2-2zM9 17H7v-7h2v7zm4 0h-2V7h2v10zm4 0h-2v-4h2v4z\"/>\n",
              "    </g>\n",
              "</svg>\n",
              "  </button>\n",
              "\n",
              "<style>\n",
              "  .colab-df-quickchart {\n",
              "      --bg-color: #E8F0FE;\n",
              "      --fill-color: #1967D2;\n",
              "      --hover-bg-color: #E2EBFA;\n",
              "      --hover-fill-color: #174EA6;\n",
              "      --disabled-fill-color: #AAA;\n",
              "      --disabled-bg-color: #DDD;\n",
              "  }\n",
              "\n",
              "  [theme=dark] .colab-df-quickchart {\n",
              "      --bg-color: #3B4455;\n",
              "      --fill-color: #D2E3FC;\n",
              "      --hover-bg-color: #434B5C;\n",
              "      --hover-fill-color: #FFFFFF;\n",
              "      --disabled-bg-color: #3B4455;\n",
              "      --disabled-fill-color: #666;\n",
              "  }\n",
              "\n",
              "  .colab-df-quickchart {\n",
              "    background-color: var(--bg-color);\n",
              "    border: none;\n",
              "    border-radius: 50%;\n",
              "    cursor: pointer;\n",
              "    display: none;\n",
              "    fill: var(--fill-color);\n",
              "    height: 32px;\n",
              "    padding: 0;\n",
              "    width: 32px;\n",
              "  }\n",
              "\n",
              "  .colab-df-quickchart:hover {\n",
              "    background-color: var(--hover-bg-color);\n",
              "    box-shadow: 0 1px 2px rgba(60, 64, 67, 0.3), 0 1px 3px 1px rgba(60, 64, 67, 0.15);\n",
              "    fill: var(--button-hover-fill-color);\n",
              "  }\n",
              "\n",
              "  .colab-df-quickchart-complete:disabled,\n",
              "  .colab-df-quickchart-complete:disabled:hover {\n",
              "    background-color: var(--disabled-bg-color);\n",
              "    fill: var(--disabled-fill-color);\n",
              "    box-shadow: none;\n",
              "  }\n",
              "\n",
              "  .colab-df-spinner {\n",
              "    border: 2px solid var(--fill-color);\n",
              "    border-color: transparent;\n",
              "    border-bottom-color: var(--fill-color);\n",
              "    animation:\n",
              "      spin 1s steps(1) infinite;\n",
              "  }\n",
              "\n",
              "  @keyframes spin {\n",
              "    0% {\n",
              "      border-color: transparent;\n",
              "      border-bottom-color: var(--fill-color);\n",
              "      border-left-color: var(--fill-color);\n",
              "    }\n",
              "    20% {\n",
              "      border-color: transparent;\n",
              "      border-left-color: var(--fill-color);\n",
              "      border-top-color: var(--fill-color);\n",
              "    }\n",
              "    30% {\n",
              "      border-color: transparent;\n",
              "      border-left-color: var(--fill-color);\n",
              "      border-top-color: var(--fill-color);\n",
              "      border-right-color: var(--fill-color);\n",
              "    }\n",
              "    40% {\n",
              "      border-color: transparent;\n",
              "      border-right-color: var(--fill-color);\n",
              "      border-top-color: var(--fill-color);\n",
              "    }\n",
              "    60% {\n",
              "      border-color: transparent;\n",
              "      border-right-color: var(--fill-color);\n",
              "    }\n",
              "    80% {\n",
              "      border-color: transparent;\n",
              "      border-right-color: var(--fill-color);\n",
              "      border-bottom-color: var(--fill-color);\n",
              "    }\n",
              "    90% {\n",
              "      border-color: transparent;\n",
              "      border-bottom-color: var(--fill-color);\n",
              "    }\n",
              "  }\n",
              "</style>\n",
              "\n",
              "  <script>\n",
              "    async function quickchart(key) {\n",
              "      const quickchartButtonEl =\n",
              "        document.querySelector('#' + key + ' button');\n",
              "      quickchartButtonEl.disabled = true;  // To prevent multiple clicks.\n",
              "      quickchartButtonEl.classList.add('colab-df-spinner');\n",
              "      try {\n",
              "        const charts = await google.colab.kernel.invokeFunction(\n",
              "            'suggestCharts', [key], {});\n",
              "      } catch (error) {\n",
              "        console.error('Error during call to suggestCharts:', error);\n",
              "      }\n",
              "      quickchartButtonEl.classList.remove('colab-df-spinner');\n",
              "      quickchartButtonEl.classList.add('colab-df-quickchart-complete');\n",
              "    }\n",
              "    (() => {\n",
              "      let quickchartButtonEl =\n",
              "        document.querySelector('#df-2dce9344-fa29-437a-b67d-b9dd03f8af80 button');\n",
              "      quickchartButtonEl.style.display =\n",
              "        google.colab.kernel.accessAllowed ? 'block' : 'none';\n",
              "    })();\n",
              "  </script>\n",
              "</div>\n",
              "    </div>\n",
              "  </div>\n"
            ],
            "application/vnd.google.colaboratory.intrinsic+json": {
              "type": "dataframe",
              "variable_name": "df",
              "summary": "{\n  \"name\": \"df\",\n  \"rows\": 8,\n  \"fields\": [\n    {\n      \"column\": \"A\",\n      \"properties\": {\n        \"dtype\": \"number\",\n        \"std\": 0.19461275651919632,\n        \"min\": 1.344,\n        \"max\": 1.883,\n        \"num_unique_values\": 8,\n        \"samples\": [\n          1.715,\n          1.832,\n          1.883\n        ],\n        \"semantic_type\": \"\",\n        \"description\": \"\"\n      }\n    },\n    {\n      \"column\": \"B\",\n      \"properties\": {\n        \"dtype\": \"number\",\n        \"std\": 0.12388005431522406,\n        \"min\": 1.404,\n        \"max\": 1.8,\n        \"num_unique_values\": 8,\n        \"samples\": [\n          1.572,\n          1.548,\n          1.435\n        ],\n        \"semantic_type\": \"\",\n        \"description\": \"\"\n      }\n    }\n  ]\n}"
            }
          },
          "metadata": {},
          "execution_count": 24
        }
      ]
    },
    {
      "cell_type": "code",
      "source": [
        "df.boxplot(['A','B'])\n",
        "plt.show()"
      ],
      "metadata": {
        "colab": {
          "base_uri": "https://localhost:8080/",
          "height": 430
        },
        "id": "C59fKRaSJyT6",
        "outputId": "4d0604ca-a773-420c-b2fc-59d2556e0715"
      },
      "execution_count": 25,
      "outputs": [
        {
          "output_type": "display_data",
          "data": {
            "text/plain": [
              "<Figure size 640x480 with 1 Axes>"
            ],
            "image/png": "[encoded data removed]"
          },
          "metadata": {}
        }
      ]
    },
    {
      "cell_type": "code",
      "source": [
        "# 두 집단의 정규성 검정\n",
        "statistic, p = stats.shapiro(df['A'])\n",
        "print(\"statistic={}, p-value={}\".format(statistic,p))"
      ],
      "metadata": {
        "colab": {
          "base_uri": "https://localhost:8080/"
        },
        "id": "7bdAFqoEKTEO",
        "outputId": "39b7af3d-06e7-417e-9327-6246fd1b3b78"
      },
      "execution_count": 26,
      "outputs": [
        {
          "output_type": "stream",
          "name": "stdout",
          "text": [
            "statistic=0.8425754904747009, p-value=0.08004532009363174\n"
          ]
        }
      ]
    },
    {
      "cell_type": "code",
      "source": [
        "statistic, p = stats.shapiro(df['B'])\n",
        "print(\"statistic={}, p-value={}\".format(statistic,p))"
      ],
      "metadata": {
        "colab": {
          "base_uri": "https://localhost:8080/"
        },
        "id": "2lPLUBF_K20d",
        "outputId": "7a3d98b0-fa5f-4a03-b834-fe75ed4da37a"
      },
      "execution_count": 27,
      "outputs": [
        {
          "output_type": "stream",
          "name": "stdout",
          "text": [
            "statistic=0.8393934369087219, p-value=0.07424874603748322\n"
          ]
        }
      ]
    },
    {
      "cell_type": "markdown",
      "source": [
        "A ,B 둘다 p값이 0.05 보다 크므로 정규성을 만족한다."
      ],
      "metadata": {
        "id": "AI5oephxK41a"
      }
    },
    {
      "cell_type": "code",
      "source": [
        "# 등분산성 검정\n",
        "stats.bartlett(df['A'], df['B'])"
      ],
      "metadata": {
        "colab": {
          "base_uri": "https://localhost:8080/"
        },
        "id": "9lpbOCCCK4Av",
        "outputId": "815cafa1-1b24-4510-cbdb-8b13060c24c2"
      },
      "execution_count": 28,
      "outputs": [
        {
          "output_type": "execute_result",
          "data": {
            "text/plain": [
              "BartlettResult(statistic=1.2899966318541203, pvalue=0.25604857136527204)"
            ]
          },
          "metadata": {},
          "execution_count": 28
        }
      ]
    },
    {
      "cell_type": "markdown",
      "source": [
        "p값이 0.05보다 크므로 등분산성을 만족한다. <br>\n",
        "따라서 Student's Test를 진행하면 된다."
      ],
      "metadata": {
        "id": "xLHf6-u1LN9Z"
      }
    },
    {
      "cell_type": "code",
      "source": [
        "t_result = stats.ttest_ind(df['A'], df['B'])\n",
        "t, p = t_result.statistic.round(3), t_result.pvalue.round(3)\n",
        "# 2-Sample t-test의 t값 p값 출력\n",
        "print( \"2-Sample t-test \")\n",
        "print( \" t: {} \" .format(t))\n",
        "print( \" p: {} \" .format(p))"
      ],
      "metadata": {
        "colab": {
          "base_uri": "https://localhost:8080/"
        },
        "id": "H3j4GT8XK-nc",
        "outputId": "0f1cb5e0-d5b0-4d26-aea0-979d1b9ef7bd"
      },
      "execution_count": 29,
      "outputs": [
        {
          "output_type": "stream",
          "name": "stdout",
          "text": [
            "2-Sample t-test \n",
            " t: 1.94 \n",
            " p: 0.073 \n"
          ]
        }
      ]
    },
    {
      "cell_type": "markdown",
      "source": [
        "유의수준 0.05에서\n",
        "p값이 0.05보다 크므로 귀무가설을 채택한다. <br>\n",
        "결론 : 공급자 간에 모평균 차이가 있다고 할 수 없다.\n"
      ],
      "metadata": {
        "id": "7l6H_AOPLmic"
      }
    },
    {
      "cell_type": "markdown",
      "source": [
        "# 실습 13\n",
        "Paired t-test"
      ],
      "metadata": {
        "id": "C6Lg1oQOMBTj"
      }
    },
    {
      "cell_type": "markdown",
      "source": [
        "회사원 10명에 대해 영어점수가 학원가기 전/후에 영어점수가 짝을 이루고 있다. <br>\n",
        "회사원들의 성적은 학원가기 전후에 대해 차이가 있는지 검정하라."
      ],
      "metadata": {
        "id": "9apWzuvDMHHD"
      }
    },
    {
      "cell_type": "code",
      "source": [
        "df1 = pd.DataFrame({'before': [720, 589, 780, 648, 720, 589, 780, 648, 780, 648]})\n",
        "df2 = pd.DataFrame({'after': [710,580,787,712,750,600,782,670,790,680]})\n",
        "\n",
        "# Paired t-test\n",
        "t_result = stats.ttest_rel(df1, df2)\n",
        "\n",
        "t, p = t_result.statistic.round(4), t_result.pvalue.round(4)"
      ],
      "metadata": {
        "id": "wnRbKK0KLlCw"
      },
      "execution_count": 33,
      "outputs": []
    },
    {
      "cell_type": "code",
      "source": [
        "print( \"Paired t-test \")\n",
        "print( \" t: {} \" .format(t))\n",
        "print( \" p: {} \" .format(p))"
      ],
      "metadata": {
        "colab": {
          "base_uri": "https://localhost:8080/"
        },
        "id": "Ht9dd_DoMpH_",
        "outputId": "fabd6677-d8dc-45f8-b392-34647c1bfa98"
      },
      "execution_count": 34,
      "outputs": [
        {
          "output_type": "stream",
          "name": "stdout",
          "text": [
            "Paired t-test \n",
            " t: [-2.2661] \n",
            " p: [0.0497] \n"
          ]
        }
      ]
    },
    {
      "cell_type": "markdown",
      "source": [
        "유의수준 0.05에서 p값이 0.05보다 작으므로 대립가설을 채택한다.\n",
        "\n",
        "\n",
        "---\n",
        "\n",
        "결론 : 회사원들의 성적은 학원가기 전후에 대해 차이가 있다고 말할 수 있다.\n",
        "검정통계량 값도 음수이므로 학원가기 전보다 후에 성적이 더 좋아졌다고 말할 수 있다."
      ],
      "metadata": {
        "id": "jas5AtgpNDYn"
      }
    },
    {
      "cell_type": "markdown",
      "source": [
        "# 실습14\n",
        "1 Proportion test\n"
      ],
      "metadata": {
        "id": "URNsybvFNziC"
      }
    },
    {
      "cell_type": "markdown",
      "source": [
        "동전이 정상적인가를 검정하기 위해 100번 던져본 결과, 앞면이 40번이 나왔으며 <br>뒷면이 60번 나왔다. 이 동전은 정상인가를 유의수준 0.05로써 검정하라.<br>\n",
        "(정상적인 동전을 던질 때, 앞면이 나올 확률은 50%이다.)\n",
        "\n",
        "\n",
        "---\n",
        "귀무가설 : 이 동전은 정상이다. <br>\n",
        "대립가설 : 이 동전은 정상이 아니다.\n"
      ],
      "metadata": {
        "id": "cRVMgXJ1N8WL"
      }
    },
    {
      "cell_type": "code",
      "source": [
        "from statsmodels.stats.proportion import proportions_ztest\n",
        "\n",
        "# 변수 선언\n",
        "count = 40\n",
        "n_obs = 100\n",
        "value = 0.5\n",
        "\n",
        "# Proportion test 실행\n",
        "z, p = proportions_ztest(count, n_obs, value)"
      ],
      "metadata": {
        "id": "RNAYOvoSMsMG"
      },
      "execution_count": 36,
      "outputs": []
    },
    {
      "cell_type": "code",
      "source": [
        "print( \"1 Proportion test \")\n",
        "print( ' z: {0:0.3f}' .format(z))\n",
        "print( ' p: {0:0.3f}'.format(p))"
      ],
      "metadata": {
        "colab": {
          "base_uri": "https://localhost:8080/"
        },
        "id": "SQfgpROqOq-x",
        "outputId": "566a1c7a-4c61-4fa3-8ba1-b7063ef21b94"
      },
      "execution_count": 37,
      "outputs": [
        {
          "output_type": "stream",
          "name": "stdout",
          "text": [
            "1 Proportion test \n",
            " z: -2.041\n",
            " p: 0.041\n"
          ]
        }
      ]
    },
    {
      "cell_type": "markdown",
      "source": [
        "유의수준 0.05에서 p값이 0.05보다 작으므로 대립가설을 채택한다.\n",
        "\n",
        "\n",
        "---\n",
        "결론 : 이 동전은 정상이 아니다.\n"
      ],
      "metadata": {
        "id": "nTzeH-VxOuVF"
      }
    },
    {
      "cell_type": "markdown",
      "source": [
        "# 실습 15\n",
        "2 Proportion test"
      ],
      "metadata": {
        "id": "Hs9tewWMO55p"
      }
    },
    {
      "cell_type": "markdown",
      "source": [
        "동일한 제품을 생산하는 두 공장에서 불량률을 측정한 결과 아래와 같다. <br>\n",
        "두 공정의 불량률이 같다고 할 수 있는가? <br>\n",
        "\n",
        "공장 A : N = 1200 , x1 = 14 <br>\n",
        "공장 B : N = 1200 , x2 = 5 <br>\n",
        "\n",
        "귀무가설 : 두 공장의 불량률은 같다. <br>\n",
        "대립가설 : 두 공장의 불량률은 같지 않다.\n"
      ],
      "metadata": {
        "id": "xhwRxS2mO_ax"
      }
    },
    {
      "cell_type": "code",
      "source": [
        "count = np.array([14, 5])\n",
        "nobs = np.array([1200, 1200])\n",
        "\n",
        "\n",
        "z, p = proportions_ztest(count, nobs)"
      ],
      "metadata": {
        "id": "p9n0_iieOtfz"
      },
      "execution_count": 38,
      "outputs": []
    },
    {
      "cell_type": "code",
      "source": [
        "\n",
        "print( \"2 Proportion test \")\n",
        "print( ' z: {0:0.3f}' .format(z))\n",
        "print( ' p: {0:0.3f}'.format(p))"
      ],
      "metadata": {
        "colab": {
          "base_uri": "https://localhost:8080/"
        },
        "id": "UxNTUQvaPoWu",
        "outputId": "7952d32a-b49c-41b9-941c-41bdac007b58"
      },
      "execution_count": 39,
      "outputs": [
        {
          "output_type": "stream",
          "name": "stdout",
          "text": [
            "2 Proportion test \n",
            " z: 2.073\n",
            " p: 0.038\n"
          ]
        }
      ]
    },
    {
      "cell_type": "markdown",
      "source": [
        "유의수준 0.05에서 p값이 0.05보다 작으므로 대립가설을 채택한다.\n",
        "\n",
        "---\n",
        "결론 : 두 공장의 불량률은 차이가 있다고 할 수 있다. <br>\n",
        "즉, 공장A의 불량률이 공장B보다 높다고 말할 수 있다.\n"
      ],
      "metadata": {
        "id": "4atYIcOfPtZ0"
      }
    },
    {
      "cell_type": "markdown",
      "source": [
        "# 실습 16\n",
        "카이제곱 검정\n"
      ],
      "metadata": {
        "id": "jCK_SfXqQIzW"
      }
    },
    {
      "cell_type": "markdown",
      "source": [
        "노트북 컴퓨터의 6가지 제품에 대하여 7가지 제품의 이미지를 중복 선택할 수 있도록\n",
        "32명의 소비자를 대상으로 설문 조사한 Table 이다.<br> 각 제품에 대해 이미지에 대해 차이가 있겠는가?\n",
        "\n",
        "---\n",
        "\n",
        "귀무가설 : 각 제품에 대해 이미지에 대해 차이가 없다. <br>\n",
        "대립가설 : 각 제품에 대해 이미지에 대해 차이가 있다."
      ],
      "metadata": {
        "id": "0GVljXpuQMHg"
      }
    },
    {
      "cell_type": "code",
      "source": [
        "df = pd.DataFrame({'A': [18,1,8,7,10,9,10],\n",
        "                   'B': [8,2,14,5,5,9,4],\n",
        "                   'C': [4,1,3,4,9,5,4],\n",
        "                   'D':[4,1,2,3,2,7,3],\n",
        "                   'E':[3,1,3,1,1,1,1],\n",
        "                   'F':[3,25,8,10,2,1,7]})\n",
        "\n",
        "\n",
        "chi, pval, dof, expected = stats.chi2_contingency(df)\n",
        "\n",
        "# chi-square test 결과 출력\n",
        "print( \"chi-square test \")\n",
        "print( ' chisq: {0:0.3f}' .format(chi))\n",
        "print( ' p: {0:0.3f}'.format(pval))\n",
        "print( ' degree pf freedom: {}' .format(dof))\n",
        "print( ' expected value: \\n{}' .format(expected.round(3)))"
      ],
      "metadata": {
        "colab": {
          "base_uri": "https://localhost:8080/"
        },
        "id": "ACB2ns85Pq1W",
        "outputId": "4282e280-4a87-478f-e4a8-9c9cadc1560e"
      },
      "execution_count": 40,
      "outputs": [
        {
          "output_type": "stream",
          "name": "stdout",
          "text": [
            "chi-square test \n",
            " chisq: 98.274\n",
            " p: 0.000\n",
            " degree pf freedom: 30\n",
            " expected value: \n",
            "[[11.004  8.21   5.24   3.843  1.921  9.782]\n",
            " [ 8.528  6.362  4.061  2.978  1.489  7.581]\n",
            " [10.454  7.799  4.978  3.651  1.825  9.293]\n",
            " [ 8.253  6.157  3.93   2.882  1.441  7.336]\n",
            " [ 7.978  5.952  3.799  2.786  1.393  7.092]\n",
            " [ 8.803  6.568  4.192  3.074  1.537  7.825]\n",
            " [ 7.978  5.952  3.799  2.786  1.393  7.092]]\n"
          ]
        }
      ]
    },
    {
      "cell_type": "markdown",
      "source": [
        "유의수준 0.05 에서 p값이 0이므로 귀무가설을 기각한다.\n",
        "\n",
        "\n",
        "---\n",
        "\n",
        "결론 : 각 제품에 대해 이미지에 대해 차이가 있다고 할 수 있다."
      ],
      "metadata": {
        "id": "xfQrIFaUSUj-"
      }
    },
    {
      "cell_type": "markdown",
      "source": [
        "# 실습 17\n",
        "ANOVA"
      ],
      "metadata": {
        "id": "USkj1TVkSmAU"
      }
    },
    {
      "cell_type": "markdown",
      "source": [
        "철강의 청정도를 높이기 위해 제강공정에서 2차 정련을 실시하는데,<br>\n",
        "강종별로 2차 정련시간의 차이가 있는지와 type별로 2차정련 시간에 차이가 있는지 검정하라."
      ],
      "metadata": {
        "id": "UDm5NsoMSp6c"
      }
    },
    {
      "cell_type": "code",
      "source": [
        "df = pd.read_csv(\"ANOVA.csv\")\n",
        "df.head()"
      ],
      "metadata": {
        "colab": {
          "base_uri": "https://localhost:8080/",
          "height": 206
        },
        "id": "98S_ueF1RSvF",
        "outputId": "79da240a-8a49-4dd8-ce09-73440d297d18"
      },
      "execution_count": 41,
      "outputs": [
        {
          "output_type": "execute_result",
          "data": {
            "text/plain": [
              "   time charge gangjong type\n",
              "0  32.2      A        a    a\n",
              "1  30.4      B        a    a\n",
              "2  33.6      C        a    a\n",
              "3  36.4      D        a    a\n",
              "4  33.9      E        a    a"
            ],
            "text/html": [
              "\n",
              "  <div id=\"df-565f1e31-0153-4494-afa1-de44411acd54\" class=\"colab-df-container\">\n",
              "    <div>\n",
              "<style scoped>\n",
              "    .dataframe tbody tr th:only-of-type {\n",
              "        vertical-align: middle;\n",
              "    }\n",
              "\n",
              "    .dataframe tbody tr th {\n",
              "        vertical-align: top;\n",
              "    }\n",
              "\n",
              "    .dataframe thead th {\n",
              "        text-align: right;\n",
              "    }\n",
              "</style>\n",
              "<table border=\"1\" class=\"dataframe\">\n",
              "  <thead>\n",
              "    <tr style=\"text-align: right;\">\n",
              "      <th></th>\n",
              "      <th>time</th>\n",
              "      <th>charge</th>\n",
              "      <th>gangjong</th>\n",
              "      <th>type</th>\n",
              "    </tr>\n",
              "  </thead>\n",
              "  <tbody>\n",
              "    <tr>\n",
              "      <th>0</th>\n",
              "      <td>32.2</td>\n",
              "      <td>A</td>\n",
              "      <td>a</td>\n",
              "      <td>a</td>\n",
              "    </tr>\n",
              "    <tr>\n",
              "      <th>1</th>\n",
              "      <td>30.4</td>\n",
              "      <td>B</td>\n",
              "      <td>a</td>\n",
              "      <td>a</td>\n",
              "    </tr>\n",
              "    <tr>\n",
              "      <th>2</th>\n",
              "      <td>33.6</td>\n",
              "      <td>C</td>\n",
              "      <td>a</td>\n",
              "      <td>a</td>\n",
              "    </tr>\n",
              "    <tr>\n",
              "      <th>3</th>\n",
              "      <td>36.4</td>\n",
              "      <td>D</td>\n",
              "      <td>a</td>\n",
              "      <td>a</td>\n",
              "    </tr>\n",
              "    <tr>\n",
              "      <th>4</th>\n",
              "      <td>33.9</td>\n",
              "      <td>E</td>\n",
              "      <td>a</td>\n",
              "      <td>a</td>\n",
              "    </tr>\n",
              "  </tbody>\n",
              "</table>\n",
              "</div>\n",
              "    <div class=\"colab-df-buttons\">\n",
              "\n",
              "  <div class=\"colab-df-container\">\n",
              "    <button class=\"colab-df-convert\" onclick=\"convertToInteractive('df-565f1e31-0153-4494-afa1-de44411acd54')\"\n",
              "            title=\"Convert this dataframe to an interactive table.\"\n",
              "            style=\"display:none;\">\n",
              "\n",
              "  <svg xmlns=\"http://www.w3.org/2000/svg\" height=\"24px\" viewBox=\"0 -960 960 960\">\n",
              "    <path d=\"M120-120v-720h720v720H120Zm60-500h600v-160H180v160Zm220 220h160v-160H400v160Zm0 220h160v-160H400v160ZM180-400h160v-160H180v160Zm440 0h160v-160H620v160ZM180-180h160v-160H180v160Zm440 0h160v-160H620v160Z\"/>\n",
              "  </svg>\n",
              "    </button>\n",
              "\n",
              "  <style>\n",
              "    .colab-df-container {\n",
              "      display:flex;\n",
              "      gap: 12px;\n",
              "    }\n",
              "\n",
              "    .colab-df-convert {\n",
              "      background-color: #E8F0FE;\n",
              "      border: none;\n",
              "      border-radius: 50%;\n",
              "      cursor: pointer;\n",
              "      display: none;\n",
              "      fill: #1967D2;\n",
              "      height: 32px;\n",
              "      padding: 0 0 0 0;\n",
              "      width: 32px;\n",
              "    }\n",
              "\n",
              "    .colab-df-convert:hover {\n",
              "      background-color: #E2EBFA;\n",
              "      box-shadow: 0px 1px 2px rgba(60, 64, 67, 0.3), 0px 1px 3px 1px rgba(60, 64, 67, 0.15);\n",
              "      fill: #174EA6;\n",
              "    }\n",
              "\n",
              "    .colab-df-buttons div {\n",
              "      margin-bottom: 4px;\n",
              "    }\n",
              "\n",
              "    [theme=dark] .colab-df-convert {\n",
              "      background-color: #3B4455;\n",
              "      fill: #D2E3FC;\n",
              "    }\n",
              "\n",
              "    [theme=dark] .colab-df-convert:hover {\n",
              "      background-color: #434B5C;\n",
              "      box-shadow: 0px 1px 3px 1px rgba(0, 0, 0, 0.15);\n",
              "      filter: drop-shadow(0px 1px 2px rgba(0, 0, 0, 0.3));\n",
              "      fill: #FFFFFF;\n",
              "    }\n",
              "  </style>\n",
              "\n",
              "    <script>\n",
              "      const buttonEl =\n",
              "        document.querySelector('#df-565f1e31-0153-4494-afa1-de44411acd54 button.colab-df-convert');\n",
              "      buttonEl.style.display =\n",
              "        google.colab.kernel.accessAllowed ? 'block' : 'none';\n",
              "\n",
              "      async function convertToInteractive(key) {\n",
              "        const element = document.querySelector('#df-565f1e31-0153-4494-afa1-de44411acd54');\n",
              "        const dataTable =\n",
              "          await google.colab.kernel.invokeFunction('convertToInteractive',\n",
              "                                                    [key], {});\n",
              "        if (!dataTable) return;\n",
              "\n",
              "        const docLinkHtml = 'Like what you see? Visit the ' +\n",
              "          '<a target=\"_blank\" href=https://colab.research.google.com/notebooks/data_table.ipynb>data table notebook</a>'\n",
              "          + ' to learn more about interactive tables.';\n",
              "        element.innerHTML = '';\n",
              "        dataTable['output_type'] = 'display_data';\n",
              "        await google.colab.output.renderOutput(dataTable, element);\n",
              "        const docLink = document.createElement('div');\n",
              "        docLink.innerHTML = docLinkHtml;\n",
              "        element.appendChild(docLink);\n",
              "      }\n",
              "    </script>\n",
              "  </div>\n",
              "\n",
              "\n",
              "<div id=\"df-5b638345-f22b-4b9d-8267-290330fc1452\">\n",
              "  <button class=\"colab-df-quickchart\" onclick=\"quickchart('df-5b638345-f22b-4b9d-8267-290330fc1452')\"\n",
              "            title=\"Suggest charts\"\n",
              "            style=\"display:none;\">\n",
              "\n",
              "<svg xmlns=\"http://www.w3.org/2000/svg\" height=\"24px\"viewBox=\"0 0 24 24\"\n",
              "     width=\"24px\">\n",
              "    <g>\n",
              "        <path d=\"M19 3H5c-1.1 0-2 .9-2 2v14c0 1.1.9 2 2 2h14c1.1 0 2-.9 2-2V5c0-1.1-.9-2-2-2zM9 17H7v-7h2v7zm4 0h-2V7h2v10zm4 0h-2v-4h2v4z\"/>\n",
              "    </g>\n",
              "</svg>\n",
              "  </button>\n",
              "\n",
              "<style>\n",
              "  .colab-df-quickchart {\n",
              "      --bg-color: #E8F0FE;\n",
              "      --fill-color: #1967D2;\n",
              "      --hover-bg-color: #E2EBFA;\n",
              "      --hover-fill-color: #174EA6;\n",
              "      --disabled-fill-color: #AAA;\n",
              "      --disabled-bg-color: #DDD;\n",
              "  }\n",
              "\n",
              "  [theme=dark] .colab-df-quickchart {\n",
              "      --bg-color: #3B4455;\n",
              "      --fill-color: #D2E3FC;\n",
              "      --hover-bg-color: #434B5C;\n",
              "      --hover-fill-color: #FFFFFF;\n",
              "      --disabled-bg-color: #3B4455;\n",
              "      --disabled-fill-color: #666;\n",
              "  }\n",
              "\n",
              "  .colab-df-quickchart {\n",
              "    background-color: var(--bg-color);\n",
              "    border: none;\n",
              "    border-radius: 50%;\n",
              "    cursor: pointer;\n",
              "    display: none;\n",
              "    fill: var(--fill-color);\n",
              "    height: 32px;\n",
              "    padding: 0;\n",
              "    width: 32px;\n",
              "  }\n",
              "\n",
              "  .colab-df-quickchart:hover {\n",
              "    background-color: var(--hover-bg-color);\n",
              "    box-shadow: 0 1px 2px rgba(60, 64, 67, 0.3), 0 1px 3px 1px rgba(60, 64, 67, 0.15);\n",
              "    fill: var(--button-hover-fill-color);\n",
              "  }\n",
              "\n",
              "  .colab-df-quickchart-complete:disabled,\n",
              "  .colab-df-quickchart-complete:disabled:hover {\n",
              "    background-color: var(--disabled-bg-color);\n",
              "    fill: var(--disabled-fill-color);\n",
              "    box-shadow: none;\n",
              "  }\n",
              "\n",
              "  .colab-df-spinner {\n",
              "    border: 2px solid var(--fill-color);\n",
              "    border-color: transparent;\n",
              "    border-bottom-color: var(--fill-color);\n",
              "    animation:\n",
              "      spin 1s steps(1) infinite;\n",
              "  }\n",
              "\n",
              "  @keyframes spin {\n",
              "    0% {\n",
              "      border-color: transparent;\n",
              "      border-bottom-color: var(--fill-color);\n",
              "      border-left-color: var(--fill-color);\n",
              "    }\n",
              "    20% {\n",
              "      border-color: transparent;\n",
              "      border-left-color: var(--fill-color);\n",
              "      border-top-color: var(--fill-color);\n",
              "    }\n",
              "    30% {\n",
              "      border-color: transparent;\n",
              "      border-left-color: var(--fill-color);\n",
              "      border-top-color: var(--fill-color);\n",
              "      border-right-color: var(--fill-color);\n",
              "    }\n",
              "    40% {\n",
              "      border-color: transparent;\n",
              "      border-right-color: var(--fill-color);\n",
              "      border-top-color: var(--fill-color);\n",
              "    }\n",
              "    60% {\n",
              "      border-color: transparent;\n",
              "      border-right-color: var(--fill-color);\n",
              "    }\n",
              "    80% {\n",
              "      border-color: transparent;\n",
              "      border-right-color: var(--fill-color);\n",
              "      border-bottom-color: var(--fill-color);\n",
              "    }\n",
              "    90% {\n",
              "      border-color: transparent;\n",
              "      border-bottom-color: var(--fill-color);\n",
              "    }\n",
              "  }\n",
              "</style>\n",
              "\n",
              "  <script>\n",
              "    async function quickchart(key) {\n",
              "      const quickchartButtonEl =\n",
              "        document.querySelector('#' + key + ' button');\n",
              "      quickchartButtonEl.disabled = true;  // To prevent multiple clicks.\n",
              "      quickchartButtonEl.classList.add('colab-df-spinner');\n",
              "      try {\n",
              "        const charts = await google.colab.kernel.invokeFunction(\n",
              "            'suggestCharts', [key], {});\n",
              "      } catch (error) {\n",
              "        console.error('Error during call to suggestCharts:', error);\n",
              "      }\n",
              "      quickchartButtonEl.classList.remove('colab-df-spinner');\n",
              "      quickchartButtonEl.classList.add('colab-df-quickchart-complete');\n",
              "    }\n",
              "    (() => {\n",
              "      let quickchartButtonEl =\n",
              "        document.querySelector('#df-5b638345-f22b-4b9d-8267-290330fc1452 button');\n",
              "      quickchartButtonEl.style.display =\n",
              "        google.colab.kernel.accessAllowed ? 'block' : 'none';\n",
              "    })();\n",
              "  </script>\n",
              "</div>\n",
              "    </div>\n",
              "  </div>\n"
            ],
            "application/vnd.google.colaboratory.intrinsic+json": {
              "type": "dataframe",
              "variable_name": "df",
              "summary": "{\n  \"name\": \"df\",\n  \"rows\": 24,\n  \"fields\": [\n    {\n      \"column\": \"time\",\n      \"properties\": {\n        \"dtype\": \"number\",\n        \"std\": 3.437390314455582,\n        \"min\": 23.7,\n        \"max\": 36.4,\n        \"num_unique_values\": 24,\n        \"samples\": [\n          31.7,\n          31.1,\n          32.2\n        ],\n        \"semantic_type\": \"\",\n        \"description\": \"\"\n      }\n    },\n    {\n      \"column\": \"charge\",\n      \"properties\": {\n        \"dtype\": \"category\",\n        \"num_unique_values\": 6,\n        \"samples\": [\n          \"A\",\n          \"B\",\n          \"F\"\n        ],\n        \"semantic_type\": \"\",\n        \"description\": \"\"\n      }\n    },\n    {\n      \"column\": \"gangjong\",\n      \"properties\": {\n        \"dtype\": \"category\",\n        \"num_unique_values\": 4,\n        \"samples\": [\n          \"b\",\n          \"d\",\n          \"a\"\n        ],\n        \"semantic_type\": \"\",\n        \"description\": \"\"\n      }\n    },\n    {\n      \"column\": \"type\",\n      \"properties\": {\n        \"dtype\": \"category\",\n        \"num_unique_values\": 2,\n        \"samples\": [\n          \"b\",\n          \"a\"\n        ],\n        \"semantic_type\": \"\",\n        \"description\": \"\"\n      }\n    }\n  ]\n}"
            }
          },
          "metadata": {},
          "execution_count": 41
        }
      ]
    },
    {
      "cell_type": "code",
      "source": [
        "df.gangjong.unique()"
      ],
      "metadata": {
        "colab": {
          "base_uri": "https://localhost:8080/"
        },
        "id": "Wcx2AvQRUIEb",
        "outputId": "ea816aa1-429c-4114-e5de-b717cf38c3dc"
      },
      "execution_count": 47,
      "outputs": [
        {
          "output_type": "execute_result",
          "data": {
            "text/plain": [
              "array(['a', 'b', 'c', 'd'], dtype=object)"
            ]
          },
          "metadata": {},
          "execution_count": 47
        }
      ]
    },
    {
      "cell_type": "code",
      "source": [
        "df.type.unique()"
      ],
      "metadata": {
        "colab": {
          "base_uri": "https://localhost:8080/"
        },
        "id": "bPswLZ7oUWOA",
        "outputId": "4002206c-2931-4681-fc54-96b185e8a55c"
      },
      "execution_count": 49,
      "outputs": [
        {
          "output_type": "execute_result",
          "data": {
            "text/plain": [
              "array(['a', 'b'], dtype=object)"
            ]
          },
          "metadata": {},
          "execution_count": 49
        }
      ]
    },
    {
      "cell_type": "code",
      "source": [
        "df_gangjong_a = df.loc[df[\"gangjong\"] == \"a\"]\n",
        "df_gangjong_b = df.loc[df[\"gangjong\"] == \"b\"]\n",
        "df_gangjong_c = df.loc[df[\"gangjong\"] == \"c\"]\n",
        "df_gangjong_d = df.loc[df[\"gangjong\"] == \"d\"]\n"
      ],
      "metadata": {
        "id": "0TE4FNIyTM1k"
      },
      "execution_count": 66,
      "outputs": []
    },
    {
      "cell_type": "code",
      "source": [
        "# a강종 box plot\n",
        "df_gangjong_a.boxplot()"
      ],
      "metadata": {
        "colab": {
          "base_uri": "https://localhost:8080/",
          "height": 449
        },
        "id": "VgXHqPFLUq8D",
        "outputId": "ad088559-9d4e-45c5-a2d2-5c969c484ebd"
      },
      "execution_count": 67,
      "outputs": [
        {
          "output_type": "execute_result",
          "data": {
            "text/plain": [
              "<Axes: >"
            ]
          },
          "metadata": {},
          "execution_count": 67
        },
        {
          "output_type": "display_data",
          "data": {
            "text/plain": [
              "<Figure size 640x480 with 1 Axes>"
            ],
            "image/png": "[encoded data removed]"
          },
          "metadata": {}
        }
      ]
    },
    {
      "cell_type": "code",
      "source": [
        "# b강종 boxplot\n",
        "df_gangjong_b.boxplot()"
      ],
      "metadata": {
        "colab": {
          "base_uri": "https://localhost:8080/",
          "height": 449
        },
        "id": "eTJj0W2LVDwj",
        "outputId": "54d44eea-2ac4-45e7-ac61-2183eac7972a"
      },
      "execution_count": 61,
      "outputs": [
        {
          "output_type": "execute_result",
          "data": {
            "text/plain": [
              "<Axes: >"
            ]
          },
          "metadata": {},
          "execution_count": 61
        },
        {
          "output_type": "display_data",
          "data": {
            "text/plain": [
              "<Figure size 640x480 with 1 Axes>"
            ],
            "image/png": "[encoded data removed]"
          },
          "metadata": {}
        }
      ]
    },
    {
      "cell_type": "code",
      "source": [
        "# c강종 boxplot\n",
        "df_gangjong_c.boxplot()"
      ],
      "metadata": {
        "colab": {
          "base_uri": "https://localhost:8080/",
          "height": 449
        },
        "id": "J9w6_a48Vkyg",
        "outputId": "58070164-4dea-455f-cbfd-db087dca30ea"
      },
      "execution_count": 62,
      "outputs": [
        {
          "output_type": "execute_result",
          "data": {
            "text/plain": [
              "<Axes: >"
            ]
          },
          "metadata": {},
          "execution_count": 62
        },
        {
          "output_type": "display_data",
          "data": {
            "text/plain": [
              "<Figure size 640x480 with 1 Axes>"
            ],
            "image/png": "[encoded data removed]"
          },
          "metadata": {}
        }
      ]
    },
    {
      "cell_type": "code",
      "source": [
        "# d 강종 boxplot\n",
        "df_gangjong_d.boxplot()"
      ],
      "metadata": {
        "colab": {
          "base_uri": "https://localhost:8080/",
          "height": 449
        },
        "id": "Na9VkSYmVlIc",
        "outputId": "5f09b8eb-4db7-4571-9e48-ab2389c0cdd1"
      },
      "execution_count": 63,
      "outputs": [
        {
          "output_type": "execute_result",
          "data": {
            "text/plain": [
              "<Axes: >"
            ]
          },
          "metadata": {},
          "execution_count": 63
        },
        {
          "output_type": "display_data",
          "data": {
            "text/plain": [
              "<Figure size 640x480 with 1 Axes>"
            ],
            "image/png": "[encoded data removed]"
          },
          "metadata": {}
        }
      ]
    },
    {
      "cell_type": "code",
      "source": [
        "# 'A‘. ’B’, ’C’ , 'D ' 강종 정규성 검정: Shapiro-Wilk Test\n",
        "f, p = stats.shapiro(df_gangjong_a[\"time\"])\n",
        "print(\"a강종 : statistic={}, p-value={}\".format(f,p))\n",
        "f, p = stats.shapiro(df_gangjong_b[\"time\"])\n",
        "print(\"b강종 : statistic={}, p-value={}\".format(f,p))\n",
        "f, p = stats.shapiro(df_gangjong_c[\"time\"])\n",
        "print(\"c강종 : statistic={}, p-value={}\".format(f,p))\n",
        "f, p = stats.shapiro(df_gangjong_d[\"time\"])\n",
        "print(\"d강종 : statistic={}, p-value={}\".format(f,p))"
      ],
      "metadata": {
        "colab": {
          "base_uri": "https://localhost:8080/"
        },
        "id": "eoqHZhRXVlaW",
        "outputId": "a422fce5-41b0-4c36-b3c4-9936baf16bce"
      },
      "execution_count": 81,
      "outputs": [
        {
          "output_type": "stream",
          "name": "stdout",
          "text": [
            "a강종 : statistic=0.9879403114318848, p-value=0.983557939529419\n",
            "b강종 : statistic=0.9769707918167114, p-value=0.9355478286743164\n",
            "c강종 : statistic=0.8929420113563538, p-value=0.3338908553123474\n",
            "d강종 : statistic=0.9713904857635498, p-value=0.901641845703125\n"
          ]
        }
      ]
    },
    {
      "cell_type": "markdown",
      "source": [
        "모두 p값이 0.05보다 크므로 정규성을 만족한다."
      ],
      "metadata": {
        "id": "wpIRxAYfWZbc"
      }
    },
    {
      "cell_type": "code",
      "source": [
        "# 등분산성 검정 정규성을 만족하기에 Bartlett Test\n",
        "\n",
        "stats.bartlett(df_gangjong_a[\"time\"],df_gangjong_b[\"time\"],df_gangjong_c[\"time\"],df_gangjong_d[\"time\"])"
      ],
      "metadata": {
        "colab": {
          "base_uri": "https://localhost:8080/"
        },
        "id": "DuGKLOVzV6yN",
        "outputId": "376dd01d-2f08-47cb-89d7-93b3f621cf1a"
      },
      "execution_count": 72,
      "outputs": [
        {
          "output_type": "execute_result",
          "data": {
            "text/plain": [
              "BartlettResult(statistic=1.8729084232387967, pvalue=0.5991991808067023)"
            ]
          },
          "metadata": {},
          "execution_count": 72
        }
      ]
    },
    {
      "cell_type": "markdown",
      "source": [
        "p값이 0.05보다 크므로 등분산성을 만족한다."
      ],
      "metadata": {
        "id": "T6uIRlnLXADu"
      }
    },
    {
      "cell_type": "code",
      "source": [
        "# ANOVA 실행\n",
        "f_result = stats.f_oneway(df_gangjong_a[\"time\"],df_gangjong_b[\"time\"],df_gangjong_c[\"time\"],df_gangjong_d[\"time\"])\n",
        "\n",
        "# ANOVA의 f값 p값 저장\n",
        "f, p = f_result.statistic.round(3),\\\n",
        "       f_result.pvalue.round(3)"
      ],
      "metadata": {
        "id": "2vWp8mwfV-GM"
      },
      "execution_count": 73,
      "outputs": []
    },
    {
      "cell_type": "code",
      "source": [
        "# ANOVA의 f값 p값 출력\n",
        "print( \"One-way ANOVA\")\n",
        "print( \" F 통계량 : {}\" .format(f))\n",
        "print( \" p-value : {} \" .format(p))"
      ],
      "metadata": {
        "colab": {
          "base_uri": "https://localhost:8080/"
        },
        "id": "vlyI4wlPXVJ4",
        "outputId": "c4f7c4ca-aeb5-436c-ba2e-a76dffbe79d5"
      },
      "execution_count": 74,
      "outputs": [
        {
          "output_type": "stream",
          "name": "stdout",
          "text": [
            "One-way ANOVA\n",
            " F 통계량 : 4.172\n",
            " p-value : 0.019 \n"
          ]
        }
      ]
    },
    {
      "cell_type": "markdown",
      "source": [
        "유의수준 0.05에서 p값이 0.05보다 작으므로 귀무가설을 기각한다.\n",
        "\n",
        "\n",
        "---\n",
        "결론 : 강종별로 2차 정련시간의 차이가 있다고 할 수 있다.\n"
      ],
      "metadata": {
        "id": "3pt4PxreXXYw"
      }
    },
    {
      "cell_type": "markdown",
      "source": [
        "type별로 2차정련 시간에 차이가 있는지 검정"
      ],
      "metadata": {
        "id": "TG_r730TXvyh"
      }
    },
    {
      "cell_type": "code",
      "source": [
        "df_type_a = df.loc[df[\"type\"] == \"a\"]\n",
        "df_type_b = df.loc[df[\"type\"] == \"b\"]\n",
        "\n"
      ],
      "metadata": {
        "id": "US8okpasXWkT"
      },
      "execution_count": 75,
      "outputs": []
    },
    {
      "cell_type": "code",
      "source": [
        "# a type의 boxplot\n",
        "df_type_a.boxplot()"
      ],
      "metadata": {
        "colab": {
          "base_uri": "https://localhost:8080/",
          "height": 449
        },
        "id": "O-809J27X2Sq",
        "outputId": "85f1e945-539f-4042-9c36-72a719809591"
      },
      "execution_count": 77,
      "outputs": [
        {
          "output_type": "execute_result",
          "data": {
            "text/plain": [
              "<Axes: >"
            ]
          },
          "metadata": {},
          "execution_count": 77
        },
        {
          "output_type": "display_data",
          "data": {
            "text/plain": [
              "<Figure size 640x480 with 1 Axes>"
            ],
            "image/png": "[encoded data removed]"
          },
          "metadata": {}
        }
      ]
    },
    {
      "cell_type": "code",
      "source": [
        "# a type의 boxplot\n",
        "df_type_b.boxplot()"
      ],
      "metadata": {
        "colab": {
          "base_uri": "https://localhost:8080/",
          "height": 449
        },
        "id": "S8hVCeWgX4qP",
        "outputId": "36aee3d1-8dff-4234-c4ea-37cb3a59ab08"
      },
      "execution_count": 78,
      "outputs": [
        {
          "output_type": "execute_result",
          "data": {
            "text/plain": [
              "<Axes: >"
            ]
          },
          "metadata": {},
          "execution_count": 78
        },
        {
          "output_type": "display_data",
          "data": {
            "text/plain": [
              "<Figure size 640x480 with 1 Axes>"
            ],
            "image/png": "[encoded data removed]"
          },
          "metadata": {}
        }
      ]
    },
    {
      "cell_type": "code",
      "source": [
        "# 'A‘. ’B’, ’C’ , 'D ' 강종 정규성 검정: Shapiro-Wilk Test\n",
        "f, p = stats.shapiro(df_type_a[\"time\"])\n",
        "print(\"a강종 : statistic={}, p-value={}\".format(f,p))\n",
        "f, p = stats.shapiro(df_type_b[\"time\"])\n",
        "print(\"b강종 : statistic={}, p-value={}\".format(f,p))\n"
      ],
      "metadata": {
        "colab": {
          "base_uri": "https://localhost:8080/"
        },
        "id": "4MbLLt2kYAwy",
        "outputId": "9f275b51-04e5-4bae-b711-cc86ef522a3d"
      },
      "execution_count": 80,
      "outputs": [
        {
          "output_type": "stream",
          "name": "stdout",
          "text": [
            "a강종 : statistic=0.982139527797699, p-value=0.9907686114311218\n",
            "b강종 : statistic=0.9098271131515503, p-value=0.2122616022825241\n"
          ]
        }
      ]
    },
    {
      "cell_type": "markdown",
      "source": [
        "모두 p값이 0.05 보다 크므로 정규성을 만족한다."
      ],
      "metadata": {
        "id": "6vPokPq2YMir"
      }
    },
    {
      "cell_type": "code",
      "source": [
        "# 등분산성 검정 정규성을 만족하기에 Bartlett Test\n",
        "\n",
        "stats.bartlett(df_type_a[\"time\"],df_type_b[\"time\"])"
      ],
      "metadata": {
        "colab": {
          "base_uri": "https://localhost:8080/"
        },
        "id": "ejLUFA46YIpm",
        "outputId": "79b612b2-988c-42f8-eab5-081a3f645412"
      },
      "execution_count": 82,
      "outputs": [
        {
          "output_type": "execute_result",
          "data": {
            "text/plain": [
              "BartlettResult(statistic=0.9529700642151103, pvalue=0.3289644435379086)"
            ]
          },
          "metadata": {},
          "execution_count": 82
        }
      ]
    },
    {
      "cell_type": "markdown",
      "source": [
        "p값이 0.05보다 크므로 등분산성을 만족한다."
      ],
      "metadata": {
        "id": "76JOaxuBYdV_"
      }
    },
    {
      "cell_type": "code",
      "source": [
        "# ANOVA 실행\n",
        "f_result = stats.f_oneway(df_type_a[\"time\"],df_type_b[\"time\"])\n",
        "\n",
        "# ANOVA의 f값 p값 저장\n",
        "f, p = f_result.statistic.round(3),\\\n",
        "       f_result.pvalue.round(3)"
      ],
      "metadata": {
        "id": "k2Et1ahjYck_"
      },
      "execution_count": 83,
      "outputs": []
    },
    {
      "cell_type": "code",
      "source": [
        "# ANOVA의 f값 p값 출력\n",
        "print( \"One-way ANOVA\")\n",
        "print( \" F 통계량 : {}\" .format(f))\n",
        "print( \" p-value : {} \" .format(p))"
      ],
      "metadata": {
        "colab": {
          "base_uri": "https://localhost:8080/"
        },
        "id": "VTrvOEbAYowB",
        "outputId": "84641239-cef4-4f54-ce71-62afa5668bac"
      },
      "execution_count": 84,
      "outputs": [
        {
          "output_type": "stream",
          "name": "stdout",
          "text": [
            "One-way ANOVA\n",
            " F 통계량 : 9.654\n",
            " p-value : 0.005 \n"
          ]
        }
      ]
    },
    {
      "cell_type": "markdown",
      "source": [
        "유의수준 0.05에서 p값이 0.05보다 작으므로 귀무가설을 기각한다.\n",
        "\n",
        "\n",
        "---\n",
        "\n",
        "결론 : type별로 2차정련 시간에 차이가 있다고 할 수 있다."
      ],
      "metadata": {
        "id": "vidBo_V3Yroa"
      }
    },
    {
      "cell_type": "markdown",
      "source": [
        "# 실습 18\n",
        "\n",
        "Correlation Analysis"
      ],
      "metadata": {
        "id": "FwWemXIrY50g"
      }
    },
    {
      "cell_type": "markdown",
      "source": [
        "초코칩의 강도와 재료 반죽온도간에 관계를 분석하기 위한 상관분석을 하세요."
      ],
      "metadata": {
        "id": "o4UdA0Bsarn_"
      }
    },
    {
      "cell_type": "code",
      "source": [
        "df1 = [37.6,38.6,37.2,36.4,38.6,39.0,37.2,36.1,35.9,37.1,36.9,37.5,36.3,38.1,39.0,36.9,36.8,36.7,33.0,33.5]\n",
        "df2 = [14,15,14,16,17,14,17,16,15,16,14,16,18,13,15,17,14,16,20,21]\n",
        "corr, pval = stats.pearsonr(df1, df2)\n",
        "\n",
        "# Correlation, p-value 결과 출력\n",
        "print( \"Correlation Analysis \")\n",
        "print( ' corr: {0:0.3f}' .format(corr))\n",
        "print( ' p-value : {0:0.3f}'.format(pval))"
      ],
      "metadata": {
        "colab": {
          "base_uri": "https://localhost:8080/"
        },
        "id": "jdvVdGWxYqog",
        "outputId": "c23852f2-f830-4a18-aa70-976d1935b6ed"
      },
      "execution_count": 85,
      "outputs": [
        {
          "output_type": "stream",
          "name": "stdout",
          "text": [
            "Correlation Analysis \n",
            " corr: -0.728\n",
            " p-value : 0.000\n"
          ]
        }
      ]
    },
    {
      "cell_type": "markdown",
      "source": [
        "p값이 0.05보다 작으므로 초코칩의 강도와 재료 반죽온도간에 강한 상관성이 있다고 할 수 있다. <br>또한 상관계수가 음수이므로 강도와 온도간에 음의 상관관계가 있다고 할 수 있다. <br>\n",
        "즉 , 초코칩의 강도가 높을수록 재료 반죽온도는 낮아진다고 할 수 있다."
      ],
      "metadata": {
        "id": "tVVrYSuAbAl7"
      }
    }
  ]
}